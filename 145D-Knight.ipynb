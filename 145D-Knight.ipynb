{
 "cells": [
  {
   "cell_type": "markdown",
   "metadata": {},
   "source": [
    "# 問題文\n",
    "二次元グリッドの原点 \n",
    "$(0, 0)$ にチェスのナイトの駒があります。\n",
    "\n",
    "ナイトの駒はマス $(i,j)$ にあるとき $(i+1,j+2)$ か $(i+2,j+1)$ のどちらかのマスにのみ動かすことができます。\n",
    "\n",
    "ナイトの駒をマス $(X,Y)$ まで移動させる方法は何通りありますか？\n",
    "\n",
    "$10^9+7$ で割った余りを求めてください。\n",
    "\n",
    "# 制約\n",
    "$1 \\leq X \\leq 10^6$<br>\n",
    "$1 \\leq Y \\leq 10^6$\n",
    "\n",
    "入力中のすべての値は整数である。\n"
   ]
  },
  {
   "cell_type": "code",
   "execution_count": null,
   "metadata": {},
   "outputs": [],
   "source": []
  },
  {
   "cell_type": "markdown",
   "metadata": {},
   "source": [
    "# 最終的に通ったコード"
   ]
  },
  {
   "cell_type": "code",
   "execution_count": 1,
   "metadata": {
    "scrolled": true
   },
   "outputs": [
    {
     "name": "stdout",
     "output_type": "stream",
     "text": [
      "999999 999999\n",
      "151840682\n"
     ]
    }
   ],
   "source": [
    "import numpy as np\n",
    "\n",
    "\n",
    "MOD = 10**9 + 7\n",
    "\n",
    "X, Y = map(int, input().split())\n",
    "\n",
    "if (X + Y) % 3 != 0:\n",
    "    print(0)\n",
    "\n",
    "else:\n",
    "    if (Y < X/2) or (Y > 2*X):\n",
    "        print(0)\n",
    "    \n",
    "    else:\n",
    "      \n",
    "        h = (2 * X - Y) // 3\n",
    "        v = (2 * Y - X) // 3\n",
    "\n",
    "        def extgcd(a, b):\n",
    "            if b == 0:\n",
    "                x = 1\n",
    "                y = 0\n",
    "            else:\n",
    "                y, x = extgcd(b, a%b)\n",
    "                y -= a//b * x\n",
    "            return x, y\n",
    "\n",
    "        def low_inverse(a):\n",
    "            ret, _ = extgcd(a, MOD)\n",
    "            return ret\n",
    "\n",
    "        def low_combination(m, n):\n",
    "            # calculate (m+n)!/n!m!\n",
    "            ret = 1\n",
    "            numerator = m + n\n",
    "            for i in range(min(m, n)):\n",
    "                inv_i = low_inverse(i + 1)\n",
    "                ret = ret * (numerator - i) * inv_i % MOD\n",
    "            return ret\n",
    "\n",
    "        print(low_combination(h, v))\n"
   ]
  },
  {
   "cell_type": "code",
   "execution_count": null,
   "metadata": {},
   "outputs": [],
   "source": []
  },
  {
   "cell_type": "markdown",
   "metadata": {},
   "source": [
    "# 解法のポイント\n",
    "- **到達不能な点を除外する**\n",
    "    - knightの1回の移動量は常に3なので $X+Y$ が3の倍数でない場合は到達不可\n",
    "    - 1回の移動で横移動および縦移動が少なくとも1発生するので $Y<\\frac{1}{2}X$ あるいは $Y>2X$ の場合は到達不可\n",
    "    - それ以外の場合はおそらく到達可能\n",
    "- **到達可能な場合、$(X, Y)$ に到達する移動コマンドの数を求める**\n",
    "    - $(2, 1)$ 移動を $h$、$(1, 2)$ 縦移動を $v$ とすると、これらが満たすべき条件は、$2h + v = X$ かつ $h + 2v = Y$ でこれは解ける\n",
    "- **求めた $h$ と $v$ の組み合わせ数 $\\frac{(h + v)!}{h!v!}$ を求める**\n",
    "    - $(X, Y)$ が十分大きい時、これをナイーブに求めると発散するので $10^9 + 7$ で割りながら桁数を調整する\n",
    "    - この時 $10^9+7$ の法の下での分母の逆数を求める必要がある"
   ]
  },
  {
   "cell_type": "markdown",
   "metadata": {},
   "source": [
    "## Given Information"
   ]
  },
  {
   "cell_type": "code",
   "execution_count": 2,
   "metadata": {},
   "outputs": [],
   "source": [
    "MOD = 10**9 + 7\n",
    "\n",
    "X = 999999\n",
    "Y = 999999"
   ]
  },
  {
   "cell_type": "markdown",
   "metadata": {},
   "source": [
    "## 具体的解法案"
   ]
  },
  {
   "cell_type": "markdown",
   "metadata": {},
   "source": [
    "### 到達不能な点を除外する\n",
    "2つ目の条件は $h$ か $v$ が負になったら $0$ を返すでもたぶん同じ"
   ]
  },
  {
   "cell_type": "code",
   "execution_count": 3,
   "metadata": {},
   "outputs": [],
   "source": [
    "if (X + Y) % 3 != 0:\n",
    "    print(0)"
   ]
  },
  {
   "cell_type": "code",
   "execution_count": 4,
   "metadata": {},
   "outputs": [],
   "source": [
    "if (Y < X/2) or (Y > 2*X):\n",
    "    print(0)"
   ]
  },
  {
   "cell_type": "markdown",
   "metadata": {},
   "source": [
    "### 到達可能な場合、$(X, Y)$ に到達する移動コマンドの数を求める"
   ]
  },
  {
   "cell_type": "code",
   "execution_count": 5,
   "metadata": {},
   "outputs": [],
   "source": [
    "h = (2 * X - Y) // 3\n",
    "v = (2 * Y - X) // 3"
   ]
  },
  {
   "cell_type": "markdown",
   "metadata": {},
   "source": [
    "### 求めた $h$ と $v$ の組み合わせ数 $\\frac{(h + v)!}{h!v!}$ を求める\n",
    "組み合わせ数を高速に計算できる手法として、\n",
    "\n",
    "- **二乗累乗法**\n",
    "- **拡張ユークリッドの互除法**\n",
    "\n",
    "が使えるっぽいので両方実装した。<br>\n",
    "結論から言えば計算速度的に拡張ユークリッドの互除法一択。二進数分解の実装は改善できそうな気がせんでもない。"
   ]
  },
  {
   "cell_type": "markdown",
   "metadata": {},
   "source": [
    "#### 二分累乗法による素数法の下での組み合わせ数計算の実装\n",
    "$a^{p-2}$ が $p$ の法の下 $a$ の逆数になることを利用する。\n",
    "- `MOD`は素数である必要がある\n",
    "- `MOD`が巨大になってくると計算効率が悪そう"
   ]
  },
  {
   "cell_type": "code",
   "execution_count": 6,
   "metadata": {},
   "outputs": [],
   "source": [
    "import numpy as np\n",
    "\n",
    "# MOD<=1073741825 までなら対応可能 np.int64にすればもうちょいいける\n",
    "\n",
    "def binary_expansion(x):\n",
    "    power_2 = np.exp2(np.arange(31)).astype(np.int32)\n",
    "    exp_list = [0] * np.argmin(x >= power_2)\n",
    "    for i in reversed(range(len(exp_list))):\n",
    "        if x >= power_2[i]:\n",
    "            exp_list[i] = 1\n",
    "            x -= power_2[i]\n",
    "        else:\n",
    "            continue\n",
    "        if x == 0:\n",
    "            break\n",
    "    return exp_list\n",
    "\n",
    "def low_inverse(a):\n",
    "    e_list = binary_expansion(MOD-2)\n",
    "    ret = 1\n",
    "    for e in e_list:\n",
    "        if e:\n",
    "            ret = ret * a % MOD\n",
    "        a = a * a % MOD\n",
    "    return ret\n",
    "\n",
    "def low_combination(m, n):\n",
    "    # calculate (m+n)!/n!m!\n",
    "    ret = 1\n",
    "    numerator = m + n\n",
    "    for i in range(min(m, n)):\n",
    "        inv_i = low_inverse(i + 1)\n",
    "        ret = ret * (numerator - i) * inv_i % MOD\n",
    "    return ret"
   ]
  },
  {
   "cell_type": "code",
   "execution_count": 7,
   "metadata": {},
   "outputs": [
    {
     "name": "stdout",
     "output_type": "stream",
     "text": [
      "CPU times: user 7.87 s, sys: 66.8 ms, total: 7.94 s\n",
      "Wall time: 7.91 s\n"
     ]
    }
   ],
   "source": [
    "%%time\n",
    "ret = low_combination(h, v)"
   ]
  },
  {
   "cell_type": "code",
   "execution_count": 8,
   "metadata": {},
   "outputs": [
    {
     "name": "stdout",
     "output_type": "stream",
     "text": [
      "151840682\n"
     ]
    }
   ],
   "source": [
    "# 151840682\n",
    "print(ret)"
   ]
  },
  {
   "cell_type": "markdown",
   "metadata": {},
   "source": [
    "#### 拡張ユークリッドの互除法による組み合わせ数計算の実装\n",
    "$ax + py = 1$ を満たす整数 $x$ を求める <br>\n",
    "- 逆数計算以外は二分累乗法の実装と同じ"
   ]
  },
  {
   "cell_type": "code",
   "execution_count": 9,
   "metadata": {},
   "outputs": [],
   "source": [
    "def extgcd(a, b):\n",
    "    if b == 0:\n",
    "        x = 1\n",
    "        y = 0\n",
    "    else:\n",
    "        y, x = extgcd(b, a%b)\n",
    "        y -= a//b * x\n",
    "    return x, y"
   ]
  },
  {
   "cell_type": "code",
   "execution_count": 10,
   "metadata": {},
   "outputs": [
    {
     "data": {
      "text/plain": [
       "(3, -11)"
      ]
     },
     "execution_count": 10,
     "metadata": {},
     "output_type": "execute_result"
    }
   ],
   "source": [
    "# (3, -11)\n",
    "extgcd(111, 30)"
   ]
  },
  {
   "cell_type": "code",
   "execution_count": 11,
   "metadata": {},
   "outputs": [],
   "source": [
    "def low_inverse(a):\n",
    "    ret, _ = extgcd(a, MOD)\n",
    "    return ret"
   ]
  },
  {
   "cell_type": "code",
   "execution_count": 12,
   "metadata": {},
   "outputs": [
    {
     "name": "stdout",
     "output_type": "stream",
     "text": [
      "CPU times: user 949 ms, sys: 3.11 ms, total: 952 ms\n",
      "Wall time: 951 ms\n"
     ]
    }
   ],
   "source": [
    "%%time\n",
    "ret = low_combination(h, v)"
   ]
  },
  {
   "cell_type": "code",
   "execution_count": 13,
   "metadata": {},
   "outputs": [
    {
     "data": {
      "text/plain": [
       "151840682"
      ]
     },
     "execution_count": 13,
     "metadata": {},
     "output_type": "execute_result"
    }
   ],
   "source": [
    "# 151840682\n",
    "ret"
   ]
  },
  {
   "cell_type": "code",
   "execution_count": null,
   "metadata": {},
   "outputs": [],
   "source": []
  },
  {
   "cell_type": "markdown",
   "metadata": {},
   "source": [
    "### 参考資料\n",
    "- 「1000000007 で割ったあまり」の求め方を総特集！ 〜 逆元から離散対数まで 〜 <br>\n",
    "https://qiita.com/drken/items/3b4fdf0a78e7a138cd9a\n",
    "- 拡張ユークリッドの互除法 〜 一次不定方程式 ax + by = c の解き方 〜 <br>\n",
    "https://qiita.com/drken/items/b97ff231e43bce50199a"
   ]
  },
  {
   "cell_type": "code",
   "execution_count": null,
   "metadata": {},
   "outputs": [],
   "source": []
  }
 ],
 "metadata": {
  "kernelspec": {
   "display_name": "Python 3",
   "language": "python",
   "name": "python3"
  },
  "language_info": {
   "codemirror_mode": {
    "name": "ipython",
    "version": 3
   },
   "file_extension": ".py",
   "mimetype": "text/x-python",
   "name": "python",
   "nbconvert_exporter": "python",
   "pygments_lexer": "ipython3",
   "version": "3.7.3"
  }
 },
 "nbformat": 4,
 "nbformat_minor": 2
}

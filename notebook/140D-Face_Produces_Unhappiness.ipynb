{
 "cells": [
  {
   "cell_type": "markdown",
   "metadata": {},
   "source": [
    "### アイデア\n",
    "- 一人だけ選んで回転すれば少なくともK-1人の幸福は保証される。全員同じ向きを向けばあとは全員ひっくり返せば幸福度は変わらない\n",
    "- 複数人選ぶのは一人を選んだ場合より幸福度が大きくなる場合\n",
    "    - LLLLRLLRLLのような状況ではR二人を選ぶと幸福な人は少なくとも二人増加する"
   ]
  },
  {
   "cell_type": "markdown",
   "metadata": {},
   "source": [
    "### アイデア2\n",
    "- 反転する内部と外部で分けて考える\n",
    "    - 内部：　LLRRL→RLLRRになる この時幸福度は2→2、RRLL→RRLLになる　この時幸福度は2→2。内部での幸福度総量は変わらなそう\n",
    "    - 外部：　外部では内部と隣接する人のみ幸福度が変動しうる"
   ]
  },
  {
   "cell_type": "code",
   "execution_count": null,
   "metadata": {
    "collapsed": true
   },
   "outputs": [],
   "source": []
  }
 ],
 "metadata": {
  "kernelspec": {
   "display_name": "Python 3",
   "language": "python",
   "name": "python3"
  },
  "language_info": {
   "codemirror_mode": {
    "name": "ipython",
    "version": 3
   },
   "file_extension": ".py",
   "mimetype": "text/x-python",
   "name": "python",
   "nbconvert_exporter": "python",
   "pygments_lexer": "ipython3",
   "version": "3.5.4"
  }
 },
 "nbformat": 4,
 "nbformat_minor": 2
}

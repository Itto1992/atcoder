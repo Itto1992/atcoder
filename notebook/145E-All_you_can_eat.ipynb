{
 "cells": [
  {
   "cell_type": "markdown",
   "metadata": {},
   "source": [
    "# 問題文\n",
    "高橋君は食べ放題のお店に来ました。\n",
    "\n",
    "$N$ 種類の料理があり、$i$ 番目の料理は、食べるために $A_i$ 分必要で、美味しさは $B_i$ です。\n",
    "<br>\n",
    "<br>\n",
    "この店のルールは以下の通りです。\n",
    "\n",
    "$1$ 度に $1$ つの料理のみを注文することができます。注文した料理は即座に提供され、食べ始めることができます。\n",
    "\n",
    "同じ種類の料理を $2$ 度以上注文することはできません。\n",
    "\n",
    "提供済みの料理を食べ終わるまで次の料理を注文することはできません。\n",
    "\n",
    "最初の注文から $T - 0.5$ 分後以降に注文することはできませんが、提供済みの料理を食べることはできます。\n",
    "\n",
    "高橋君の満足度を、この来店で高橋君が食べる料理の美味しさの合計とします。\n",
    "\n",
    "高橋君が適切に行動したとき、満足度は最大でいくらになるでしょうか。\n",
    "\n",
    "# 制約\n",
    "\n",
    "- $2 \\leq N \\leq 3000$\n",
    "- $1 \\leq T \\leq 3000$\n",
    "- $1 \\leq A_i \\leq 3000$\n",
    "- $1 \\leq B_i \\leq 3000$\n",
    "\n",
    "入力中のすべての値は整数である。"
   ]
  },
  {
   "cell_type": "code",
   "execution_count": null,
   "metadata": {},
   "outputs": [],
   "source": []
  }
 ],
 "metadata": {
  "kernelspec": {
   "display_name": "Python 3",
   "language": "python",
   "name": "python3"
  },
  "language_info": {
   "codemirror_mode": {
    "name": "ipython",
    "version": 3
   },
   "file_extension": ".py",
   "mimetype": "text/x-python",
   "name": "python",
   "nbconvert_exporter": "python",
   "pygments_lexer": "ipython3",
   "version": "3.7.3"
  }
 },
 "nbformat": 4,
 "nbformat_minor": 2
}

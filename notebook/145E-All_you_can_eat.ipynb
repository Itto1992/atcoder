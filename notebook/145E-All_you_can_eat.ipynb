{
 "cells": [
  {
   "cell_type": "markdown",
   "metadata": {},
   "source": [
    "# 問題文\n",
    "高橋君は食べ放題のお店に来ました。\n",
    "\n",
    "$N$ 種類の料理があり、$i$ 番目の料理は、食べるために $A_i$ 分必要で、美味しさは $B_i$ です。\n",
    "<br>\n",
    "<br>\n",
    "この店のルールは以下の通りです。\n",
    "\n",
    "$1$ 度に $1$ つの料理のみを注文することができます。注文した料理は即座に提供され、食べ始めることができます。\n",
    "\n",
    "同じ種類の料理を $2$ 度以上注文することはできません。\n",
    "\n",
    "提供済みの料理を食べ終わるまで次の料理を注文することはできません。\n",
    "\n",
    "最初の注文から $T - 0.5$ 分後以降に注文することはできませんが、提供済みの料理を食べることはできます。\n",
    "\n",
    "高橋君の満足度を、この来店で高橋君が食べる料理の美味しさの合計とします。\n",
    "\n",
    "高橋君が適切に行動したとき、満足度は最大でいくらになるでしょうか。\n",
    "\n",
    "# 制約\n",
    "\n",
    "- $2 \\leq N \\leq 3000$\n",
    "- $1 \\leq T \\leq 3000$\n",
    "- $1 \\leq A_i \\leq 3000$\n",
    "- $1 \\leq B_i \\leq 3000$\n",
    "\n",
    "入力中のすべての値は整数である。"
   ]
  },
  {
   "cell_type": "code",
   "execution_count": null,
   "metadata": {},
   "outputs": [],
   "source": []
  },
  {
   "cell_type": "markdown",
   "metadata": {},
   "source": [
    "### 文章読解\n",
    "Let $I = \\{k_1, k_2, \\cdots, k_n\\}$ and $I^\\prime = I  \\backslash \\{k_n\\}$.<br>\n",
    "Then, we can write the optimization problem as follow;\n",
    "\n",
    "$$\n",
    "    \\begin{align}\n",
    "        maximize \\sum_{i \\in I} B_i \\\\\n",
    "        subject\\ to\\ \\sum_{i \\in I^\\prime} A_i < T - 0.5\n",
    "    \\end{align}\n",
    "$$"
   ]
  },
  {
   "cell_type": "markdown",
   "metadata": {},
   "source": [
    "## ナイーブに実装してみる"
   ]
  },
  {
   "cell_type": "code",
   "execution_count": 77,
   "metadata": {},
   "outputs": [],
   "source": [
    "N = 10 \n",
    "T = 100\n",
    "array = [\n",
    "    [15, 23],\n",
    "    [20, 18],\n",
    "    [13, 17],\n",
    "    [24, 12],\n",
    "    [18, 29],\n",
    "    [19, 27],\n",
    "    [23, 21],\n",
    "    [18, 20],\n",
    "    [27, 15],\n",
    "    [22, 25]\n",
    "]"
   ]
  },
  {
   "cell_type": "code",
   "execution_count": 80,
   "metadata": {
    "collapsed": true
   },
   "outputs": [
    {
     "ename": "KeyboardInterrupt",
     "evalue": "",
     "output_type": "error",
     "traceback": [
      "\u001b[0;31m---------------------------------------------------------------------------\u001b[0m",
      "\u001b[0;31mKeyboardInterrupt\u001b[0m                         Traceback (most recent call last)",
      "\u001b[0;32m~/.pyenv/versions/3.7.3/lib/python3.7/site-packages/ipykernel/kernelbase.py\u001b[0m in \u001b[0;36m_input_request\u001b[0;34m(self, prompt, ident, parent, password)\u001b[0m\n\u001b[1;32m    884\u001b[0m             \u001b[0;32mtry\u001b[0m\u001b[0;34m:\u001b[0m\u001b[0;34m\u001b[0m\u001b[0;34m\u001b[0m\u001b[0m\n\u001b[0;32m--> 885\u001b[0;31m                 \u001b[0mident\u001b[0m\u001b[0;34m,\u001b[0m \u001b[0mreply\u001b[0m \u001b[0;34m=\u001b[0m \u001b[0mself\u001b[0m\u001b[0;34m.\u001b[0m\u001b[0msession\u001b[0m\u001b[0;34m.\u001b[0m\u001b[0mrecv\u001b[0m\u001b[0;34m(\u001b[0m\u001b[0mself\u001b[0m\u001b[0;34m.\u001b[0m\u001b[0mstdin_socket\u001b[0m\u001b[0;34m,\u001b[0m \u001b[0;36m0\u001b[0m\u001b[0;34m)\u001b[0m\u001b[0;34m\u001b[0m\u001b[0;34m\u001b[0m\u001b[0m\n\u001b[0m\u001b[1;32m    886\u001b[0m             \u001b[0;32mexcept\u001b[0m \u001b[0mException\u001b[0m\u001b[0;34m:\u001b[0m\u001b[0;34m\u001b[0m\u001b[0;34m\u001b[0m\u001b[0m\n",
      "\u001b[0;32m~/.pyenv/versions/3.7.3/lib/python3.7/site-packages/jupyter_client/session.py\u001b[0m in \u001b[0;36mrecv\u001b[0;34m(self, socket, mode, content, copy)\u001b[0m\n\u001b[1;32m    802\u001b[0m         \u001b[0;32mtry\u001b[0m\u001b[0;34m:\u001b[0m\u001b[0;34m\u001b[0m\u001b[0;34m\u001b[0m\u001b[0m\n\u001b[0;32m--> 803\u001b[0;31m             \u001b[0mmsg_list\u001b[0m \u001b[0;34m=\u001b[0m \u001b[0msocket\u001b[0m\u001b[0;34m.\u001b[0m\u001b[0mrecv_multipart\u001b[0m\u001b[0;34m(\u001b[0m\u001b[0mmode\u001b[0m\u001b[0;34m,\u001b[0m \u001b[0mcopy\u001b[0m\u001b[0;34m=\u001b[0m\u001b[0mcopy\u001b[0m\u001b[0;34m)\u001b[0m\u001b[0;34m\u001b[0m\u001b[0;34m\u001b[0m\u001b[0m\n\u001b[0m\u001b[1;32m    804\u001b[0m         \u001b[0;32mexcept\u001b[0m \u001b[0mzmq\u001b[0m\u001b[0;34m.\u001b[0m\u001b[0mZMQError\u001b[0m \u001b[0;32mas\u001b[0m \u001b[0me\u001b[0m\u001b[0;34m:\u001b[0m\u001b[0;34m\u001b[0m\u001b[0;34m\u001b[0m\u001b[0m\n",
      "\u001b[0;32m~/.pyenv/versions/3.7.3/lib/python3.7/site-packages/zmq/sugar/socket.py\u001b[0m in \u001b[0;36mrecv_multipart\u001b[0;34m(self, flags, copy, track)\u001b[0m\n\u001b[1;32m    469\u001b[0m         \"\"\"\n\u001b[0;32m--> 470\u001b[0;31m         \u001b[0mparts\u001b[0m \u001b[0;34m=\u001b[0m \u001b[0;34m[\u001b[0m\u001b[0mself\u001b[0m\u001b[0;34m.\u001b[0m\u001b[0mrecv\u001b[0m\u001b[0;34m(\u001b[0m\u001b[0mflags\u001b[0m\u001b[0;34m,\u001b[0m \u001b[0mcopy\u001b[0m\u001b[0;34m=\u001b[0m\u001b[0mcopy\u001b[0m\u001b[0;34m,\u001b[0m \u001b[0mtrack\u001b[0m\u001b[0;34m=\u001b[0m\u001b[0mtrack\u001b[0m\u001b[0;34m)\u001b[0m\u001b[0;34m]\u001b[0m\u001b[0;34m\u001b[0m\u001b[0;34m\u001b[0m\u001b[0m\n\u001b[0m\u001b[1;32m    471\u001b[0m         \u001b[0;31m# have first part already, only loop while more to receive\u001b[0m\u001b[0;34m\u001b[0m\u001b[0;34m\u001b[0m\u001b[0;34m\u001b[0m\u001b[0m\n",
      "\u001b[0;32mzmq/backend/cython/socket.pyx\u001b[0m in \u001b[0;36mzmq.backend.cython.socket.Socket.recv\u001b[0;34m()\u001b[0m\n",
      "\u001b[0;32mzmq/backend/cython/socket.pyx\u001b[0m in \u001b[0;36mzmq.backend.cython.socket.Socket.recv\u001b[0;34m()\u001b[0m\n",
      "\u001b[0;32mzmq/backend/cython/socket.pyx\u001b[0m in \u001b[0;36mzmq.backend.cython.socket._recv_copy\u001b[0;34m()\u001b[0m\n",
      "\u001b[0;32m~/.pyenv/versions/3.7.3/lib/python3.7/site-packages/zmq/backend/cython/checkrc.pxd\u001b[0m in \u001b[0;36mzmq.backend.cython.checkrc._check_rc\u001b[0;34m()\u001b[0m\n",
      "\u001b[0;31mKeyboardInterrupt\u001b[0m: ",
      "\nDuring handling of the above exception, another exception occurred:\n",
      "\u001b[0;31mKeyboardInterrupt\u001b[0m                         Traceback (most recent call last)",
      "\u001b[0;32m<ipython-input-80-f2aa272ca0ee>\u001b[0m in \u001b[0;36m<module>\u001b[0;34m\u001b[0m\n\u001b[1;32m      3\u001b[0m \u001b[0;34m\u001b[0m\u001b[0m\n\u001b[1;32m      4\u001b[0m \u001b[0;34m\u001b[0m\u001b[0m\n\u001b[0;32m----> 5\u001b[0;31m \u001b[0mN\u001b[0m\u001b[0;34m,\u001b[0m \u001b[0mT\u001b[0m \u001b[0;34m=\u001b[0m \u001b[0mmap\u001b[0m\u001b[0;34m(\u001b[0m\u001b[0mint\u001b[0m\u001b[0;34m,\u001b[0m \u001b[0minput\u001b[0m\u001b[0;34m(\u001b[0m\u001b[0;34m)\u001b[0m\u001b[0;34m.\u001b[0m\u001b[0msplit\u001b[0m\u001b[0;34m(\u001b[0m\u001b[0;34m)\u001b[0m\u001b[0;34m)\u001b[0m\u001b[0;34m\u001b[0m\u001b[0;34m\u001b[0m\u001b[0m\n\u001b[0m\u001b[1;32m      6\u001b[0m \u001b[0marray\u001b[0m \u001b[0;34m=\u001b[0m \u001b[0;34m[\u001b[0m\u001b[0;34m]\u001b[0m\u001b[0;34m\u001b[0m\u001b[0;34m\u001b[0m\u001b[0m\n\u001b[1;32m      7\u001b[0m \u001b[0;32mfor\u001b[0m \u001b[0m_\u001b[0m \u001b[0;32min\u001b[0m \u001b[0mrange\u001b[0m\u001b[0;34m(\u001b[0m\u001b[0mN\u001b[0m\u001b[0;34m)\u001b[0m\u001b[0;34m:\u001b[0m\u001b[0;34m\u001b[0m\u001b[0;34m\u001b[0m\u001b[0m\n",
      "\u001b[0;32m~/.pyenv/versions/3.7.3/lib/python3.7/site-packages/ipykernel/kernelbase.py\u001b[0m in \u001b[0;36mraw_input\u001b[0;34m(self, prompt)\u001b[0m\n\u001b[1;32m    858\u001b[0m             \u001b[0mself\u001b[0m\u001b[0;34m.\u001b[0m\u001b[0m_parent_ident\u001b[0m\u001b[0;34m,\u001b[0m\u001b[0;34m\u001b[0m\u001b[0;34m\u001b[0m\u001b[0m\n\u001b[1;32m    859\u001b[0m             \u001b[0mself\u001b[0m\u001b[0;34m.\u001b[0m\u001b[0m_parent_header\u001b[0m\u001b[0;34m,\u001b[0m\u001b[0;34m\u001b[0m\u001b[0;34m\u001b[0m\u001b[0m\n\u001b[0;32m--> 860\u001b[0;31m             \u001b[0mpassword\u001b[0m\u001b[0;34m=\u001b[0m\u001b[0;32mFalse\u001b[0m\u001b[0;34m,\u001b[0m\u001b[0;34m\u001b[0m\u001b[0;34m\u001b[0m\u001b[0m\n\u001b[0m\u001b[1;32m    861\u001b[0m         )\n\u001b[1;32m    862\u001b[0m \u001b[0;34m\u001b[0m\u001b[0m\n",
      "\u001b[0;32m~/.pyenv/versions/3.7.3/lib/python3.7/site-packages/ipykernel/kernelbase.py\u001b[0m in \u001b[0;36m_input_request\u001b[0;34m(self, prompt, ident, parent, password)\u001b[0m\n\u001b[1;32m    888\u001b[0m             \u001b[0;32mexcept\u001b[0m \u001b[0mKeyboardInterrupt\u001b[0m\u001b[0;34m:\u001b[0m\u001b[0;34m\u001b[0m\u001b[0;34m\u001b[0m\u001b[0m\n\u001b[1;32m    889\u001b[0m                 \u001b[0;31m# re-raise KeyboardInterrupt, to truncate traceback\u001b[0m\u001b[0;34m\u001b[0m\u001b[0;34m\u001b[0m\u001b[0;34m\u001b[0m\u001b[0m\n\u001b[0;32m--> 890\u001b[0;31m                 \u001b[0;32mraise\u001b[0m \u001b[0mKeyboardInterrupt\u001b[0m\u001b[0;34m\u001b[0m\u001b[0;34m\u001b[0m\u001b[0m\n\u001b[0m\u001b[1;32m    891\u001b[0m             \u001b[0;32melse\u001b[0m\u001b[0;34m:\u001b[0m\u001b[0;34m\u001b[0m\u001b[0;34m\u001b[0m\u001b[0m\n\u001b[1;32m    892\u001b[0m                 \u001b[0;32mbreak\u001b[0m\u001b[0;34m\u001b[0m\u001b[0;34m\u001b[0m\u001b[0m\n",
      "\u001b[0;31mKeyboardInterrupt\u001b[0m: "
     ]
    }
   ],
   "source": [
    "import itertools\n",
    "import numpy as np\n",
    "\n",
    "\n",
    "N, T = map(int, input().split())\n",
    "array = []\n",
    "for _ in range(N):\n",
    "    array.append([int(i) for i in input().split()])\n",
    "\n",
    "\n",
    "# bの昇順でソート \n",
    "a = np.array(array)\n",
    "a = a[np.argsort(a[:, 1])]\n",
    "\n",
    "# 制限時間内に注文できる全ての組を列挙し、残りの中から最も大きい効用が得られるものを注文する\n",
    "candidate = []\n",
    "_range = [i for i in range(N)]\n",
    "for i in range(1, N+1):\n",
    "    for j in itertools.combinations(_range, i):\n",
    "        j = np.array(j)\n",
    "        if a[j].sum(0)[0] < T:\n",
    "            sum_A = a[j].sum(0)[1]\n",
    "            for k in reversed(range(N)):\n",
    "                if k not in j:\n",
    "                    break\n",
    "                else:\n",
    "                    continue\n",
    "            ret = a[j].sum(0)[1] + a[k, 1]\n",
    "            candidate.append(ret)\n",
    "print(max(candidate))"
   ]
  },
  {
   "cell_type": "markdown",
   "metadata": {},
   "source": [
    "### ビビるほどTLEした 枝刈り必須\n",
    "- コスト順に並べてn個選んだコストの最小値を評価することでコンビネーションの回数が減らせる"
   ]
  },
  {
   "cell_type": "code",
   "execution_count": 89,
   "metadata": {
    "collapsed": true
   },
   "outputs": [
    {
     "ename": "KeyboardInterrupt",
     "evalue": "",
     "output_type": "error",
     "traceback": [
      "\u001b[0;31m---------------------------------------------------------------------------\u001b[0m",
      "\u001b[0;31mKeyboardInterrupt\u001b[0m                         Traceback (most recent call last)",
      "\u001b[0;32m~/.pyenv/versions/3.7.3/lib/python3.7/site-packages/ipykernel/kernelbase.py\u001b[0m in \u001b[0;36m_input_request\u001b[0;34m(self, prompt, ident, parent, password)\u001b[0m\n\u001b[1;32m    884\u001b[0m             \u001b[0;32mtry\u001b[0m\u001b[0;34m:\u001b[0m\u001b[0;34m\u001b[0m\u001b[0;34m\u001b[0m\u001b[0m\n\u001b[0;32m--> 885\u001b[0;31m                 \u001b[0mident\u001b[0m\u001b[0;34m,\u001b[0m \u001b[0mreply\u001b[0m \u001b[0;34m=\u001b[0m \u001b[0mself\u001b[0m\u001b[0;34m.\u001b[0m\u001b[0msession\u001b[0m\u001b[0;34m.\u001b[0m\u001b[0mrecv\u001b[0m\u001b[0;34m(\u001b[0m\u001b[0mself\u001b[0m\u001b[0;34m.\u001b[0m\u001b[0mstdin_socket\u001b[0m\u001b[0;34m,\u001b[0m \u001b[0;36m0\u001b[0m\u001b[0;34m)\u001b[0m\u001b[0;34m\u001b[0m\u001b[0;34m\u001b[0m\u001b[0m\n\u001b[0m\u001b[1;32m    886\u001b[0m             \u001b[0;32mexcept\u001b[0m \u001b[0mException\u001b[0m\u001b[0;34m:\u001b[0m\u001b[0;34m\u001b[0m\u001b[0;34m\u001b[0m\u001b[0m\n",
      "\u001b[0;32m~/.pyenv/versions/3.7.3/lib/python3.7/site-packages/jupyter_client/session.py\u001b[0m in \u001b[0;36mrecv\u001b[0;34m(self, socket, mode, content, copy)\u001b[0m\n\u001b[1;32m    802\u001b[0m         \u001b[0;32mtry\u001b[0m\u001b[0;34m:\u001b[0m\u001b[0;34m\u001b[0m\u001b[0;34m\u001b[0m\u001b[0m\n\u001b[0;32m--> 803\u001b[0;31m             \u001b[0mmsg_list\u001b[0m \u001b[0;34m=\u001b[0m \u001b[0msocket\u001b[0m\u001b[0;34m.\u001b[0m\u001b[0mrecv_multipart\u001b[0m\u001b[0;34m(\u001b[0m\u001b[0mmode\u001b[0m\u001b[0;34m,\u001b[0m \u001b[0mcopy\u001b[0m\u001b[0;34m=\u001b[0m\u001b[0mcopy\u001b[0m\u001b[0;34m)\u001b[0m\u001b[0;34m\u001b[0m\u001b[0;34m\u001b[0m\u001b[0m\n\u001b[0m\u001b[1;32m    804\u001b[0m         \u001b[0;32mexcept\u001b[0m \u001b[0mzmq\u001b[0m\u001b[0;34m.\u001b[0m\u001b[0mZMQError\u001b[0m \u001b[0;32mas\u001b[0m \u001b[0me\u001b[0m\u001b[0;34m:\u001b[0m\u001b[0;34m\u001b[0m\u001b[0;34m\u001b[0m\u001b[0m\n",
      "\u001b[0;32m~/.pyenv/versions/3.7.3/lib/python3.7/site-packages/zmq/sugar/socket.py\u001b[0m in \u001b[0;36mrecv_multipart\u001b[0;34m(self, flags, copy, track)\u001b[0m\n\u001b[1;32m    469\u001b[0m         \"\"\"\n\u001b[0;32m--> 470\u001b[0;31m         \u001b[0mparts\u001b[0m \u001b[0;34m=\u001b[0m \u001b[0;34m[\u001b[0m\u001b[0mself\u001b[0m\u001b[0;34m.\u001b[0m\u001b[0mrecv\u001b[0m\u001b[0;34m(\u001b[0m\u001b[0mflags\u001b[0m\u001b[0;34m,\u001b[0m \u001b[0mcopy\u001b[0m\u001b[0;34m=\u001b[0m\u001b[0mcopy\u001b[0m\u001b[0;34m,\u001b[0m \u001b[0mtrack\u001b[0m\u001b[0;34m=\u001b[0m\u001b[0mtrack\u001b[0m\u001b[0;34m)\u001b[0m\u001b[0;34m]\u001b[0m\u001b[0;34m\u001b[0m\u001b[0;34m\u001b[0m\u001b[0m\n\u001b[0m\u001b[1;32m    471\u001b[0m         \u001b[0;31m# have first part already, only loop while more to receive\u001b[0m\u001b[0;34m\u001b[0m\u001b[0;34m\u001b[0m\u001b[0;34m\u001b[0m\u001b[0m\n",
      "\u001b[0;32mzmq/backend/cython/socket.pyx\u001b[0m in \u001b[0;36mzmq.backend.cython.socket.Socket.recv\u001b[0;34m()\u001b[0m\n",
      "\u001b[0;32mzmq/backend/cython/socket.pyx\u001b[0m in \u001b[0;36mzmq.backend.cython.socket.Socket.recv\u001b[0;34m()\u001b[0m\n",
      "\u001b[0;32mzmq/backend/cython/socket.pyx\u001b[0m in \u001b[0;36mzmq.backend.cython.socket._recv_copy\u001b[0;34m()\u001b[0m\n",
      "\u001b[0;32m~/.pyenv/versions/3.7.3/lib/python3.7/site-packages/zmq/backend/cython/checkrc.pxd\u001b[0m in \u001b[0;36mzmq.backend.cython.checkrc._check_rc\u001b[0;34m()\u001b[0m\n",
      "\u001b[0;31mKeyboardInterrupt\u001b[0m: ",
      "\nDuring handling of the above exception, another exception occurred:\n",
      "\u001b[0;31mKeyboardInterrupt\u001b[0m                         Traceback (most recent call last)",
      "\u001b[0;32m<ipython-input-89-4b7b8b798921>\u001b[0m in \u001b[0;36m<module>\u001b[0;34m\u001b[0m\n\u001b[1;32m      3\u001b[0m \u001b[0;34m\u001b[0m\u001b[0m\n\u001b[1;32m      4\u001b[0m \u001b[0;34m\u001b[0m\u001b[0m\n\u001b[0;32m----> 5\u001b[0;31m \u001b[0mN\u001b[0m\u001b[0;34m,\u001b[0m \u001b[0mT\u001b[0m \u001b[0;34m=\u001b[0m \u001b[0mmap\u001b[0m\u001b[0;34m(\u001b[0m\u001b[0mint\u001b[0m\u001b[0;34m,\u001b[0m \u001b[0minput\u001b[0m\u001b[0;34m(\u001b[0m\u001b[0;34m)\u001b[0m\u001b[0;34m.\u001b[0m\u001b[0msplit\u001b[0m\u001b[0;34m(\u001b[0m\u001b[0;34m)\u001b[0m\u001b[0;34m)\u001b[0m\u001b[0;34m\u001b[0m\u001b[0;34m\u001b[0m\u001b[0m\n\u001b[0m\u001b[1;32m      6\u001b[0m \u001b[0ma\u001b[0m \u001b[0;34m=\u001b[0m \u001b[0;34m[\u001b[0m\u001b[0;34m]\u001b[0m\u001b[0;34m\u001b[0m\u001b[0;34m\u001b[0m\u001b[0m\n\u001b[1;32m      7\u001b[0m \u001b[0mb\u001b[0m \u001b[0;34m=\u001b[0m \u001b[0;34m[\u001b[0m\u001b[0;34m]\u001b[0m\u001b[0;34m\u001b[0m\u001b[0;34m\u001b[0m\u001b[0m\n",
      "\u001b[0;32m~/.pyenv/versions/3.7.3/lib/python3.7/site-packages/ipykernel/kernelbase.py\u001b[0m in \u001b[0;36mraw_input\u001b[0;34m(self, prompt)\u001b[0m\n\u001b[1;32m    858\u001b[0m             \u001b[0mself\u001b[0m\u001b[0;34m.\u001b[0m\u001b[0m_parent_ident\u001b[0m\u001b[0;34m,\u001b[0m\u001b[0;34m\u001b[0m\u001b[0;34m\u001b[0m\u001b[0m\n\u001b[1;32m    859\u001b[0m             \u001b[0mself\u001b[0m\u001b[0;34m.\u001b[0m\u001b[0m_parent_header\u001b[0m\u001b[0;34m,\u001b[0m\u001b[0;34m\u001b[0m\u001b[0;34m\u001b[0m\u001b[0m\n\u001b[0;32m--> 860\u001b[0;31m             \u001b[0mpassword\u001b[0m\u001b[0;34m=\u001b[0m\u001b[0;32mFalse\u001b[0m\u001b[0;34m,\u001b[0m\u001b[0;34m\u001b[0m\u001b[0;34m\u001b[0m\u001b[0m\n\u001b[0m\u001b[1;32m    861\u001b[0m         )\n\u001b[1;32m    862\u001b[0m \u001b[0;34m\u001b[0m\u001b[0m\n",
      "\u001b[0;32m~/.pyenv/versions/3.7.3/lib/python3.7/site-packages/ipykernel/kernelbase.py\u001b[0m in \u001b[0;36m_input_request\u001b[0;34m(self, prompt, ident, parent, password)\u001b[0m\n\u001b[1;32m    888\u001b[0m             \u001b[0;32mexcept\u001b[0m \u001b[0mKeyboardInterrupt\u001b[0m\u001b[0;34m:\u001b[0m\u001b[0;34m\u001b[0m\u001b[0;34m\u001b[0m\u001b[0m\n\u001b[1;32m    889\u001b[0m                 \u001b[0;31m# re-raise KeyboardInterrupt, to truncate traceback\u001b[0m\u001b[0;34m\u001b[0m\u001b[0;34m\u001b[0m\u001b[0;34m\u001b[0m\u001b[0m\n\u001b[0;32m--> 890\u001b[0;31m                 \u001b[0;32mraise\u001b[0m \u001b[0mKeyboardInterrupt\u001b[0m\u001b[0;34m\u001b[0m\u001b[0;34m\u001b[0m\u001b[0m\n\u001b[0m\u001b[1;32m    891\u001b[0m             \u001b[0;32melse\u001b[0m\u001b[0;34m:\u001b[0m\u001b[0;34m\u001b[0m\u001b[0;34m\u001b[0m\u001b[0m\n\u001b[1;32m    892\u001b[0m                 \u001b[0;32mbreak\u001b[0m\u001b[0;34m\u001b[0m\u001b[0;34m\u001b[0m\u001b[0m\n",
      "\u001b[0;31mKeyboardInterrupt\u001b[0m: "
     ]
    }
   ],
   "source": [
    "import itertools\n",
    "import numpy as np\n",
    "\n",
    "\n",
    "N, T = map(int, input().split())\n",
    "a = []\n",
    "b = []\n",
    "for _ in range(N):\n",
    "    _a, _b = map(int, input().split())\n",
    "    a.append(_a)\n",
    "    b.append(_b)\n",
    "a = np.array(a)\n",
    "b = np.array(b)\n",
    "    \n",
    "costs = a[np.argsort(-a)]\n",
    "cost_cumsum = np.cumsum(costs)\n",
    "costs_value_sort = a[np.argsort(-b)]\n",
    "\n",
    "values = b[np.argsort(-b)]\n",
    "values_cost_sort = b[np.argsort(-a)]\n",
    "\n",
    "# 下限の計算\n",
    "index = np.sum(np.cumsum(costs) < T) - 1\n",
    "if len(costs) == index + 1:\n",
    "    inf = np.cumsum(values)\n",
    "else:\n",
    "    inf = np.cumsum(values_cost_sort)[index+1]\n",
    "    \n",
    "candidate = []\n",
    "_range = [i for i in range(N)]\n",
    "\n",
    "for i in range(0, N):\n",
    "    if cost_cumsum[i] > T - 1:\n",
    "        continue\n",
    "    else:\n",
    "        break\n",
    "\n",
    "if N - i == 1:\n",
    "    print(values.sum())\n",
    "    \n",
    "else:\n",
    "    for j in range(1, N - i):\n",
    "        for k in itertools.combinations(_range, j):\n",
    "            k = np.array(k)\n",
    "            current_cost = costs_value_sort[k].sum()\n",
    "            if current_cost < T:\n",
    "                for l in range(N):\n",
    "                    if l not in k:\n",
    "                        break\n",
    "                    else:\n",
    "                        continue\n",
    "                ret = values[k].sum() + values[l]\n",
    "            elif current_cost == T:\n",
    "                ret = values[k].sum()\n",
    "            else:\n",
    "                continue\n",
    "                \n",
    "            if inf < ret:\n",
    "                inf = ret\n",
    "    print(inf)"
   ]
  },
  {
   "cell_type": "code",
   "execution_count": 87,
   "metadata": {},
   "outputs": [],
   "source": [
    "# リストを受け取って次に足しこむ\n",
    "def cumsum(list_object):\n",
    "    N = len(list_object)\n",
    "    ret = [0] * N\n",
    "    for i in range(N):\n",
    "        ret[i] = ret[i-1] + list_object[i]\n",
    "    return ret"
   ]
  },
  {
   "cell_type": "code",
   "execution_count": 92,
   "metadata": {},
   "outputs": [
    {
     "data": {
      "text/plain": [
       "array([9])"
      ]
     },
     "execution_count": 92,
     "metadata": {},
     "output_type": "execute_result"
    }
   ],
   "source": [
    "np.arange(10)[9:]"
   ]
  },
  {
   "cell_type": "markdown",
   "metadata": {},
   "source": [
    "## 思いついたこと\n",
    "\n",
    "### 枝刈り\n",
    "- 満足度の下限を使って枝刈りをする\n",
    "    - $max(B_i)$ が満足度の下限になる\n",
    "    - $A_{argmax{B_i}} \\leq T - 1$ なら満足度2番目を満足度1番目に足しこんだものが満足度の下限になる。以下同様。\n",
    "- 残り時間が $t$ の時、$min(A_i) > t$ ならば、その時点で残っている満足度最大のものを注文するのがoptimal"
   ]
  },
  {
   "cell_type": "code",
   "execution_count": 1,
   "metadata": {},
   "outputs": [
    {
     "name": "stdout",
     "output_type": "stream",
     "text": [
      "3 60\n",
      "10 10\n",
      "10 20\n",
      "10 30\n"
     ]
    }
   ],
   "source": [
    "import numpy as np\n",
    "\n",
    "\n",
    "N, T = map(int, input().split())\n",
    "array = []\n",
    "for _ in range(N):\n",
    "    array.append([int(i) for i in input().split()])"
   ]
  },
  {
   "cell_type": "code",
   "execution_count": 14,
   "metadata": {},
   "outputs": [],
   "source": [
    "N = 10 \n",
    "T = 100\n",
    "array = [\n",
    "    [15, 23],\n",
    "    [20, 18],\n",
    "    [13, 17],\n",
    "    [24, 12],\n",
    "    [18, 29],\n",
    "    [19, 27],\n",
    "    [23, 21],\n",
    "    [18, 20],\n",
    "    [27, 15],\n",
    "    [22, 25]\n",
    "]"
   ]
  },
  {
   "cell_type": "code",
   "execution_count": 15,
   "metadata": {},
   "outputs": [
    {
     "data": {
      "text/plain": [
       "array([[15, 23],\n",
       "       [20, 18],\n",
       "       [13, 17],\n",
       "       [24, 12],\n",
       "       [18, 29],\n",
       "       [19, 27],\n",
       "       [23, 21],\n",
       "       [18, 20],\n",
       "       [27, 15],\n",
       "       [22, 25]])"
      ]
     },
     "execution_count": 15,
     "metadata": {},
     "output_type": "execute_result"
    }
   ],
   "source": [
    "a = np.array(array)\n",
    "a"
   ]
  },
  {
   "cell_type": "code",
   "execution_count": 16,
   "metadata": {},
   "outputs": [
    {
     "data": {
      "text/plain": [
       "array([2, 0, 4, 7, 5, 1, 9, 6, 3, 8])"
      ]
     },
     "execution_count": 16,
     "metadata": {},
     "output_type": "execute_result"
    }
   ],
   "source": [
    "index = np.argsort(a[:, 0])\n",
    "index"
   ]
  },
  {
   "cell_type": "code",
   "execution_count": 24,
   "metadata": {},
   "outputs": [
    {
     "name": "stdout",
     "output_type": "stream",
     "text": [
      "17\n",
      "23\n",
      "29\n",
      "20\n",
      "27\n"
     ]
    }
   ],
   "source": [
    "count = 0\n",
    "sum_A = 0\n",
    "while T - 1 >= sum_A:\n",
    "    sum_A += a[index[count], 1]\n",
    "    print(a[index[count], 1])\n",
    "    count += 1\n",
    "res_max = np.max(a[index[count:], 1])\n",
    "ret = sum_A + res_max"
   ]
  },
  {
   "cell_type": "code",
   "execution_count": 18,
   "metadata": {},
   "outputs": [
    {
     "data": {
      "text/plain": [
       "116"
      ]
     },
     "execution_count": 18,
     "metadata": {},
     "output_type": "execute_result"
    }
   ],
   "source": [
    "sum_A"
   ]
  },
  {
   "cell_type": "code",
   "execution_count": 25,
   "metadata": {},
   "outputs": [
    {
     "data": {
      "text/plain": [
       "141"
      ]
     },
     "execution_count": 25,
     "metadata": {},
     "output_type": "execute_result"
    }
   ],
   "source": [
    "ret"
   ]
  },
  {
   "cell_type": "code",
   "execution_count": 26,
   "metadata": {},
   "outputs": [
    {
     "data": {
      "text/plain": [
       "5"
      ]
     },
     "execution_count": 26,
     "metadata": {},
     "output_type": "execute_result"
    }
   ],
   "source": [
    "count"
   ]
  },
  {
   "cell_type": "code",
   "execution_count": 23,
   "metadata": {},
   "outputs": [
    {
     "data": {
      "text/plain": [
       "array([2, 0, 4, 7, 5])"
      ]
     },
     "execution_count": 23,
     "metadata": {},
     "output_type": "execute_result"
    }
   ],
   "source": [
    "index[:count]"
   ]
  },
  {
   "cell_type": "code",
   "execution_count": 27,
   "metadata": {},
   "outputs": [
    {
     "data": {
      "text/plain": [
       "array([1, 9, 6, 3, 8])"
      ]
     },
     "execution_count": 27,
     "metadata": {},
     "output_type": "execute_result"
    }
   ],
   "source": [
    "index[count:]"
   ]
  },
  {
   "cell_type": "markdown",
   "metadata": {},
   "source": [
    "### 比較演算子\n",
    "- 第一引数が大きければ True を返す\n",
    "- それ以外の場合は第一引数が小さいあるいは判定不能で何も返さない"
   ]
  },
  {
   "cell_type": "code",
   "execution_count": 32,
   "metadata": {},
   "outputs": [],
   "source": [
    "def compare(a, b):\n",
    "    # a.shape = b.shape = (2,)\n",
    "    if a[0] <= b[0] and a[1] >= b[1]:\n",
    "        return True"
   ]
  },
  {
   "cell_type": "code",
   "execution_count": null,
   "metadata": {},
   "outputs": [],
   "source": [
    "import itertools\n",
    "\n",
    "itertools.combinations(index)"
   ]
  },
  {
   "cell_type": "code",
   "execution_count": 31,
   "metadata": {},
   "outputs": [
    {
     "data": {
      "text/plain": [
       "15"
      ]
     },
     "execution_count": 31,
     "metadata": {},
     "output_type": "execute_result"
    }
   ],
   "source": [
    "a[0][0]"
   ]
  },
  {
   "cell_type": "code",
   "execution_count": 73,
   "metadata": {},
   "outputs": [
    {
     "data": {
      "text/plain": [
       "[41,\n",
       " 44,\n",
       " 46,\n",
       " 47,\n",
       " 49,\n",
       " 50,\n",
       " 52,\n",
       " 54,\n",
       " 56,\n",
       " 56,\n",
       " 56,\n",
       " 58,\n",
       " 59,\n",
       " 61,\n",
       " 62,\n",
       " 64,\n",
       " 66,\n",
       " 68,\n",
       " 68,\n",
       " 61,\n",
       " 62,\n",
       " 64,\n",
       " 65,\n",
       " 67,\n",
       " 69,\n",
       " 71,\n",
       " 71,\n",
       " 64,\n",
       " 66,\n",
       " 67,\n",
       " 69,\n",
       " 71,\n",
       " 73,\n",
       " 73,\n",
       " 67,\n",
       " 68,\n",
       " 70,\n",
       " 72,\n",
       " 74,\n",
       " 74,\n",
       " 70,\n",
       " 72,\n",
       " 74,\n",
       " 76,\n",
       " 76,\n",
       " 73,\n",
       " 75,\n",
       " 77,\n",
       " 77,\n",
       " 77,\n",
       " 79,\n",
       " 79,\n",
       " 81,\n",
       " 81,\n",
       " 81,\n",
       " 73,\n",
       " 74,\n",
       " 76,\n",
       " 77,\n",
       " 79,\n",
       " 81,\n",
       " 83,\n",
       " 83,\n",
       " 76,\n",
       " 78,\n",
       " 79,\n",
       " 81,\n",
       " 83,\n",
       " 85,\n",
       " 85,\n",
       " 79,\n",
       " 80,\n",
       " 82,\n",
       " 84,\n",
       " 86,\n",
       " 86,\n",
       " 82,\n",
       " 84,\n",
       " 86,\n",
       " 88,\n",
       " 88,\n",
       " 85,\n",
       " 87,\n",
       " 89,\n",
       " 89,\n",
       " 89,\n",
       " 91,\n",
       " 91,\n",
       " 93,\n",
       " 93,\n",
       " 93,\n",
       " 79,\n",
       " 81,\n",
       " 82,\n",
       " 84,\n",
       " 86,\n",
       " 88,\n",
       " 88,\n",
       " 82,\n",
       " 83,\n",
       " 85,\n",
       " 87,\n",
       " 89,\n",
       " 89,\n",
       " 85,\n",
       " 87,\n",
       " 89,\n",
       " 91,\n",
       " 91,\n",
       " 88,\n",
       " 90,\n",
       " 92,\n",
       " 92,\n",
       " 92,\n",
       " 94,\n",
       " 94,\n",
       " 96,\n",
       " 96,\n",
       " 96,\n",
       " 84,\n",
       " 85,\n",
       " 87,\n",
       " 89,\n",
       " 91,\n",
       " 91,\n",
       " 87,\n",
       " 89,\n",
       " 91,\n",
       " 93,\n",
       " 93,\n",
       " 90,\n",
       " 92,\n",
       " 94,\n",
       " 94,\n",
       " 94,\n",
       " 96,\n",
       " 96,\n",
       " 98,\n",
       " 98,\n",
       " 98,\n",
       " 88,\n",
       " 90,\n",
       " 92,\n",
       " 94,\n",
       " 94,\n",
       " 91,\n",
       " 93,\n",
       " 95,\n",
       " 95,\n",
       " 95,\n",
       " 97,\n",
       " 97,\n",
       " 99,\n",
       " 99,\n",
       " 99,\n",
       " 93,\n",
       " 95,\n",
       " 97,\n",
       " 97,\n",
       " 97,\n",
       " 99,\n",
       " 99,\n",
       " 101,\n",
       " 101,\n",
       " 101,\n",
       " 98,\n",
       " 100,\n",
       " 100,\n",
       " 102,\n",
       " 102,\n",
       " 102,\n",
       " 104,\n",
       " 104,\n",
       " 104,\n",
       " 104,\n",
       " 91,\n",
       " 93,\n",
       " 94,\n",
       " 96,\n",
       " 98,\n",
       " 100,\n",
       " 100,\n",
       " 94,\n",
       " 95,\n",
       " 97,\n",
       " 99,\n",
       " 101,\n",
       " 101,\n",
       " 97,\n",
       " 99,\n",
       " 101,\n",
       " 103,\n",
       " 103,\n",
       " 100,\n",
       " 102,\n",
       " 104,\n",
       " 104,\n",
       " 104,\n",
       " 106,\n",
       " 106,\n",
       " 108,\n",
       " 108,\n",
       " 108,\n",
       " 96,\n",
       " 97,\n",
       " 99,\n",
       " 101,\n",
       " 103,\n",
       " 103,\n",
       " 99,\n",
       " 101,\n",
       " 103,\n",
       " 105,\n",
       " 105,\n",
       " 102,\n",
       " 104,\n",
       " 106,\n",
       " 106,\n",
       " 106,\n",
       " 108,\n",
       " 108,\n",
       " 110,\n",
       " 110,\n",
       " 110,\n",
       " 100,\n",
       " 102,\n",
       " 104,\n",
       " 106,\n",
       " 106,\n",
       " 103,\n",
       " 105,\n",
       " 107,\n",
       " 107,\n",
       " 107,\n",
       " 109,\n",
       " 109,\n",
       " 111,\n",
       " 111,\n",
       " 111,\n",
       " 105,\n",
       " 107,\n",
       " 109,\n",
       " 109,\n",
       " 109,\n",
       " 111,\n",
       " 111,\n",
       " 113,\n",
       " 113,\n",
       " 113,\n",
       " 110,\n",
       " 112,\n",
       " 112,\n",
       " 114,\n",
       " 114,\n",
       " 114,\n",
       " 116,\n",
       " 116,\n",
       " 116,\n",
       " 116,\n",
       " 99,\n",
       " 100,\n",
       " 102,\n",
       " 104,\n",
       " 106,\n",
       " 106,\n",
       " 102,\n",
       " 104,\n",
       " 106,\n",
       " 108,\n",
       " 108,\n",
       " 105,\n",
       " 107,\n",
       " 109,\n",
       " 109,\n",
       " 109,\n",
       " 111,\n",
       " 111,\n",
       " 113,\n",
       " 113,\n",
       " 113,\n",
       " 103,\n",
       " 105,\n",
       " 107,\n",
       " 109,\n",
       " 109,\n",
       " 106,\n",
       " 108,\n",
       " 110,\n",
       " 110,\n",
       " 110,\n",
       " 112,\n",
       " 112,\n",
       " 114,\n",
       " 114,\n",
       " 114,\n",
       " 108,\n",
       " 110,\n",
       " 112,\n",
       " 112,\n",
       " 112,\n",
       " 114,\n",
       " 114,\n",
       " 116,\n",
       " 116,\n",
       " 116,\n",
       " 113,\n",
       " 115,\n",
       " 115,\n",
       " 117,\n",
       " 117,\n",
       " 117,\n",
       " 119,\n",
       " 119,\n",
       " 119,\n",
       " 119,\n",
       " 105,\n",
       " 107,\n",
       " 109,\n",
       " 111,\n",
       " 111,\n",
       " 108,\n",
       " 110,\n",
       " 112,\n",
       " 112,\n",
       " 112,\n",
       " 114,\n",
       " 114,\n",
       " 116,\n",
       " 116,\n",
       " 116,\n",
       " 110,\n",
       " 112,\n",
       " 114,\n",
       " 114,\n",
       " 114,\n",
       " 116,\n",
       " 116,\n",
       " 118,\n",
       " 118,\n",
       " 118,\n",
       " 115,\n",
       " 117,\n",
       " 117,\n",
       " 119,\n",
       " 119,\n",
       " 119,\n",
       " 121,\n",
       " 121,\n",
       " 121,\n",
       " 121,\n",
       " 111,\n",
       " 113,\n",
       " 115,\n",
       " 115,\n",
       " 115,\n",
       " 117,\n",
       " 117,\n",
       " 119,\n",
       " 119,\n",
       " 119,\n",
       " 116,\n",
       " 118,\n",
       " 118,\n",
       " 120,\n",
       " 120,\n",
       " 120,\n",
       " 122,\n",
       " 122,\n",
       " 122,\n",
       " 122,\n",
       " 118,\n",
       " 120,\n",
       " 120,\n",
       " 122,\n",
       " 122,\n",
       " 122,\n",
       " 124,\n",
       " 124,\n",
       " 124,\n",
       " 124,\n",
       " 125,\n",
       " 125,\n",
       " 125,\n",
       " 125,\n",
       " 125,\n",
       " 114,\n",
       " 116,\n",
       " 123,\n",
       " 123,\n",
       " 117,\n",
       " 119,\n",
       " 121,\n",
       " 123,\n",
       " 123,\n",
       " 120,\n",
       " 124,\n",
       " 124,\n",
       " 124,\n",
       " 126,\n",
       " 126,\n",
       " 128,\n",
       " 128,\n",
       " 128,\n",
       " 122,\n",
       " 126,\n",
       " 126,\n",
       " 126,\n",
       " 128,\n",
       " 128,\n",
       " 130,\n",
       " 130,\n",
       " 130,\n",
       " 127,\n",
       " 129,\n",
       " 129,\n",
       " 131,\n",
       " 133,\n",
       " 133,\n",
       " 133,\n",
       " 133,\n",
       " 127,\n",
       " 129,\n",
       " 129,\n",
       " 131,\n",
       " 134,\n",
       " 134,\n",
       " 132,\n",
       " 132,\n",
       " 136,\n",
       " 136,\n",
       " 136,\n",
       " 137,\n",
       " 137,\n",
       " 122,\n",
       " 126,\n",
       " 126,\n",
       " 123,\n",
       " 127,\n",
       " 129,\n",
       " 129,\n",
       " 131,\n",
       " 125,\n",
       " 129,\n",
       " 129,\n",
       " 131,\n",
       " 131,\n",
       " 133,\n",
       " 133,\n",
       " 133,\n",
       " 132,\n",
       " 132,\n",
       " 136,\n",
       " 136,\n",
       " 136,\n",
       " 136,\n",
       " 132,\n",
       " 132,\n",
       " 137,\n",
       " 139,\n",
       " 128,\n",
       " 130,\n",
       " 132,\n",
       " 132,\n",
       " 132,\n",
       " 134,\n",
       " 134,\n",
       " 136,\n",
       " 136,\n",
       " 136,\n",
       " 133,\n",
       " 135,\n",
       " 135,\n",
       " 137,\n",
       " 137,\n",
       " 137,\n",
       " 139,\n",
       " 139,\n",
       " 139,\n",
       " 139,\n",
       " 135,\n",
       " 137,\n",
       " 137,\n",
       " 139,\n",
       " 139,\n",
       " 139,\n",
       " 141,\n",
       " 141,\n",
       " 141,\n",
       " 141,\n",
       " 142,\n",
       " 142,\n",
       " 142,\n",
       " 142,\n",
       " 142,\n",
       " 136,\n",
       " 138,\n",
       " 138,\n",
       " 140,\n",
       " 142,\n",
       " 142,\n",
       " 142,\n",
       " 142,\n",
       " 143,\n",
       " 143,\n",
       " 143,\n",
       " 143,\n",
       " 145,\n",
       " 145,\n",
       " 145,\n",
       " 145,\n",
       " 145]"
      ]
     },
     "execution_count": 73,
     "metadata": {},
     "output_type": "execute_result"
    }
   ],
   "source": [
    "candidate"
   ]
  },
  {
   "cell_type": "code",
   "execution_count": 55,
   "metadata": {},
   "outputs": [
    {
     "data": {
      "text/plain": [
       "array([0, 1, 2, 3, 4, 5, 6, 7, 8, 9])"
      ]
     },
     "execution_count": 55,
     "metadata": {},
     "output_type": "execute_result"
    }
   ],
   "source": [
    "np.array(j)"
   ]
  },
  {
   "cell_type": "code",
   "execution_count": 59,
   "metadata": {},
   "outputs": [
    {
     "data": {
      "text/plain": [
       "array([[15, 23]])"
      ]
     },
     "execution_count": 59,
     "metadata": {},
     "output_type": "execute_result"
    }
   ],
   "source": [
    "_j = (0,)\n",
    "a[np.array(_j)]"
   ]
  },
  {
   "cell_type": "code",
   "execution_count": 60,
   "metadata": {},
   "outputs": [
    {
     "data": {
      "text/plain": [
       "array([15, 23])"
      ]
     },
     "execution_count": 60,
     "metadata": {},
     "output_type": "execute_result"
    }
   ],
   "source": [
    "a[np.array(_j)].sum(0)"
   ]
  },
  {
   "cell_type": "code",
   "execution_count": 61,
   "metadata": {},
   "outputs": [
    {
     "data": {
      "text/plain": [
       "15"
      ]
     },
     "execution_count": 61,
     "metadata": {},
     "output_type": "execute_result"
    }
   ],
   "source": [
    "a[np.array(_j)].sum(0)[1]"
   ]
  },
  {
   "cell_type": "code",
   "execution_count": 67,
   "metadata": {},
   "outputs": [
    {
     "data": {
      "text/plain": [
       "array([[24, 12],\n",
       "       [27, 15],\n",
       "       [13, 17],\n",
       "       [20, 18],\n",
       "       [18, 20],\n",
       "       [23, 21],\n",
       "       [15, 23],\n",
       "       [22, 25],\n",
       "       [19, 27],\n",
       "       [18, 29]])"
      ]
     },
     "execution_count": 67,
     "metadata": {},
     "output_type": "execute_result"
    }
   ],
   "source": [
    "a = np.array(array)\n",
    "a = a[np.argsort(a[:, 1])]\n",
    "a"
   ]
  },
  {
   "cell_type": "code",
   "execution_count": 66,
   "metadata": {},
   "outputs": [
    {
     "data": {
      "text/plain": [
       "array([[15, 23],\n",
       "       [20, 18],\n",
       "       [13, 17],\n",
       "       [24, 12],\n",
       "       [18, 29],\n",
       "       [19, 27],\n",
       "       [23, 21],\n",
       "       [18, 20],\n",
       "       [27, 15],\n",
       "       [22, 25]])"
      ]
     },
     "execution_count": 66,
     "metadata": {},
     "output_type": "execute_result"
    }
   ],
   "source": [
    "np.array(array)"
   ]
  },
  {
   "cell_type": "code",
   "execution_count": 71,
   "metadata": {},
   "outputs": [
    {
     "data": {
      "text/plain": [
       "False"
      ]
     },
     "execution_count": 71,
     "metadata": {},
     "output_type": "execute_result"
    }
   ],
   "source": [
    "1 not in np.array([1, 2])"
   ]
  },
  {
   "cell_type": "code",
   "execution_count": null,
   "metadata": {},
   "outputs": [],
   "source": []
  }
 ],
 "metadata": {
  "kernelspec": {
   "display_name": "Python 3",
   "language": "python",
   "name": "python3"
  },
  "language_info": {
   "codemirror_mode": {
    "name": "ipython",
    "version": 3
   },
   "file_extension": ".py",
   "mimetype": "text/x-python",
   "name": "python",
   "nbconvert_exporter": "python",
   "pygments_lexer": "ipython3",
   "version": "3.7.3"
  }
 },
 "nbformat": 4,
 "nbformat_minor": 2
}

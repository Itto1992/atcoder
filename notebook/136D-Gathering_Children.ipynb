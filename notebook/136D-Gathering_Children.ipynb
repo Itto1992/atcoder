{
 "cells": [
  {
   "cell_type": "code",
   "execution_count": 5,
   "metadata": {
    "collapsed": true
   },
   "outputs": [],
   "source": [
    "children = \"RRRRRLLRLRLRL\""
   ]
  },
  {
   "cell_type": "code",
   "execution_count": 6,
   "metadata": {
    "collapsed": true
   },
   "outputs": [],
   "source": [
    "initial_L = 0\n",
    "for direction in children:\n",
    "    if direction == 'L':\n",
    "        break\n",
    "    initial_L += 1"
   ]
  },
  {
   "cell_type": "code",
   "execution_count": 7,
   "metadata": {},
   "outputs": [
    {
     "data": {
      "text/plain": [
       "5"
      ]
     },
     "execution_count": 7,
     "metadata": {},
     "output_type": "execute_result"
    }
   ],
   "source": [
    "initial_L"
   ]
  },
  {
   "cell_type": "code",
   "execution_count": 12,
   "metadata": {},
   "outputs": [
    {
     "data": {
      "text/plain": [
       "'LLRLRLRL'"
      ]
     },
     "execution_count": 12,
     "metadata": {},
     "output_type": "execute_result"
    }
   ],
   "source": [
    "children[5:]"
   ]
  },
  {
   "cell_type": "code",
   "execution_count": null,
   "metadata": {
    "collapsed": true
   },
   "outputs": [],
   "source": [
    "import sys\n",
    "\n",
    "def main():\n",
    "    children = input()\n",
    "\n",
    "    num_children = len(children)\n",
    "    ret = {i: 0 for i in range(num_children)}\n",
    "\n",
    "    previous_L = 0\n",
    "    for i, child in enumerate(children):\n",
    "        if child == 'L':\n",
    "            if i != num_children - 1:\n",
    "                ret[previous_L] = (previous_L + 2) // 2\n",
    "                ret[previous_L - 1] = (previous_L + 1) // 2\n",
    "            else:\n",
    "              \n",
    "        previous_L += 1\n",
    "\n",
    "    ret = [str(item) for item in ret.values()]       \n",
    "    ret = ' '.join(ret)\n",
    "    print(ret)\n",
    "    \n",
    "if __name__==\"__main__\":\n",
    "    main()"
   ]
  }
 ],
 "metadata": {
  "kernelspec": {
   "display_name": "Python 3",
   "language": "python",
   "name": "python3"
  },
  "language_info": {
   "codemirror_mode": {
    "name": "ipython",
    "version": 3
   },
   "file_extension": ".py",
   "mimetype": "text/x-python",
   "name": "python",
   "nbconvert_exporter": "python",
   "pygments_lexer": "ipython3",
   "version": "3.5.4"
  }
 },
 "nbformat": 4,
 "nbformat_minor": 2
}

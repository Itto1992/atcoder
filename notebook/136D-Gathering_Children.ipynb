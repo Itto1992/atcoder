{
 "cells": [
  {
   "cell_type": "markdown",
   "metadata": {},
   "source": [
    "### 提出コード"
   ]
  },
  {
   "cell_type": "code",
   "execution_count": null,
   "metadata": {
    "collapsed": true
   },
   "outputs": [],
   "source": [
    "import sys\n",
    "\n",
    "\n",
    "def main():\n",
    "    children = input()\n",
    "\n",
    "    ret = {i: 0 for i in range(len(children))}\n",
    "\n",
    "    previous_L = -1\n",
    "    loop_flag = True\n",
    "    for i, child in enumerate(children):\n",
    "        if loop_flag:\n",
    "            if child == 'L':\n",
    "                ret[i] = (i - previous_L + 1) // 2\n",
    "                ret[i - 1] = (i - previous_L) // 2\n",
    "                loop_flag = False\n",
    "                previous_L = i\n",
    "                        \n",
    "        else:\n",
    "            if child == 'L':\n",
    "                if (i - previous_L) % 2:\n",
    "                    ret[previous_L - 1] += 1\n",
    "                else:\n",
    "                    ret[previous_L] += 1\n",
    "            else:\n",
    "                loop_flag = True\n",
    "                previous_L = i - 1\n",
    "\n",
    "    ret = [str(value) for value in ret.values()]       \n",
    "    ret = ' '.join(ret)\n",
    "    print(ret)\n",
    "    \n",
    "if __name__==\"__main__\":\n",
    "    main()\n"
   ]
  },
  {
   "cell_type": "markdown",
   "metadata": {},
   "source": [
    "### 解法\n",
    "- \"RL\"に当たるとトラップされてその二つから出ていくことはない\n",
    "- 十分回数移動を行えばすべての子供はどこかの\"RL\"にトラップされる\n",
    "    - 最初に\"RL\"にエントリーしたイテレーションによって最終的に入る場所が決まるので、すべての要素についてそれをチェックすればよい\n",
    "- \"RRRRL\"などのように'R'が連続する領域はまとめて計算できる\n",
    "- \"LLLL\"などのように'L'が連続する領域は個別に計算する この場合直前の\"RL\"のどちらかに入る"
   ]
  },
  {
   "cell_type": "code",
   "execution_count": null,
   "metadata": {
    "collapsed": true
   },
   "outputs": [],
   "source": []
  }
 ],
 "metadata": {
  "kernelspec": {
   "display_name": "Python 3",
   "language": "python",
   "name": "python3"
  },
  "language_info": {
   "codemirror_mode": {
    "name": "ipython",
    "version": 3
   },
   "file_extension": ".py",
   "mimetype": "text/x-python",
   "name": "python",
   "nbconvert_exporter": "python",
   "pygments_lexer": "ipython3",
   "version": "3.5.4"
  }
 },
 "nbformat": 4,
 "nbformat_minor": 2
}

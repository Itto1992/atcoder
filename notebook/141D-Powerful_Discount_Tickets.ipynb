{
 "cells": [
  {
   "cell_type": "markdown",
   "metadata": {},
   "source": [
    "### 提出コード"
   ]
  },
  {
   "cell_type": "code",
   "execution_count": null,
   "metadata": {
    "collapsed": true
   },
   "outputs": [],
   "source": [
    "import sys, heapq\n",
    "\n",
    "\n",
    "def main():\n",
    "    # ノートブック上では動かない atcoder上ではこちらが動きかつ高速\n",
    "    # input = sys.stdin.readline\n",
    "    \n",
    "    N, M = map(int, input().split())\n",
    "    value = [-int(inp) for inp in input().split()]\n",
    "\n",
    "    heapq.heapify(value)\n",
    "\n",
    "    for _ in range(M):\n",
    "        new_elem = -(- heapq.heappop(value) // 2)\n",
    "        heapq.heappush(value, new_elem)\n",
    "\n",
    "    print(- sum(value))\n",
    "    \n",
    "if __name__==\"__main__\":\n",
    "    main()"
   ]
  },
  {
   "cell_type": "markdown",
   "metadata": {},
   "source": [
    "### 解法ポイント\n",
    "- 最大値に高速でアクセス＋ソートが一回のチケット使用のたびに必要で、リストでは間に合わないので、これらの操作がO(logn)で行えるheapqを使う\n",
    "- pythonではheapqが最小値を取り出す操作にしか対応していないので-1倍する。それに合わせて切り捨て操作時に一時的に正の数に戻す"
   ]
  },
  {
   "cell_type": "markdown",
   "metadata": {},
   "source": [
    "### 【実験】プライオリティキューの生成速度\n",
    "以下の例ではプライオリティキューにpushしていくよりリストを作ってプライオリティキュー化した方が早いが、atcoder上では2ms程度しか差がつかなかったため誤差レベルだと思います"
   ]
  },
  {
   "cell_type": "code",
   "execution_count": 1,
   "metadata": {},
   "outputs": [
    {
     "name": "stdout",
     "output_type": "stream",
     "text": [
      "10.4 µs ± 28.6 ns per loop (mean ± std. dev. of 7 runs, 100000 loops each)\n"
     ]
    }
   ],
   "source": [
    "%%timeit\n",
    "\n",
    "import heapq\n",
    "\n",
    "value = [i for i in range(100)]\n",
    "heapq.heapify(value)"
   ]
  },
  {
   "cell_type": "code",
   "execution_count": 2,
   "metadata": {},
   "outputs": [
    {
     "name": "stdout",
     "output_type": "stream",
     "text": [
      "18.6 µs ± 456 ns per loop (mean ± std. dev. of 7 runs, 10000 loops each)\n"
     ]
    }
   ],
   "source": [
    "%%timeit\n",
    "\n",
    "import heapq\n",
    "\n",
    "value = []\n",
    "heapq.heapify(value)\n",
    "for i in range(100):\n",
    "    heapq.heappush(value, i)"
   ]
  },
  {
   "cell_type": "code",
   "execution_count": 3,
   "metadata": {},
   "outputs": [
    {
     "data": {
      "text/plain": [
       "-1"
      ]
     },
     "execution_count": 3,
     "metadata": {},
     "output_type": "execute_result"
    }
   ],
   "source": [
    "-1 // 2"
   ]
  },
  {
   "cell_type": "code",
   "execution_count": 4,
   "metadata": {},
   "outputs": [
    {
     "data": {
      "text/plain": [
       "-1"
      ]
     },
     "execution_count": 4,
     "metadata": {},
     "output_type": "execute_result"
    }
   ],
   "source": [
    "-2 // 2"
   ]
  },
  {
   "cell_type": "code",
   "execution_count": 5,
   "metadata": {},
   "outputs": [
    {
     "data": {
      "text/plain": [
       "-2"
      ]
     },
     "execution_count": 5,
     "metadata": {},
     "output_type": "execute_result"
    }
   ],
   "source": [
    "-3 // 2"
   ]
  },
  {
   "cell_type": "code",
   "execution_count": null,
   "metadata": {
    "collapsed": true
   },
   "outputs": [],
   "source": []
  }
 ],
 "metadata": {
  "kernelspec": {
   "display_name": "Python 3",
   "language": "python",
   "name": "python3"
  },
  "language_info": {
   "codemirror_mode": {
    "name": "ipython",
    "version": 3
   },
   "file_extension": ".py",
   "mimetype": "text/x-python",
   "name": "python",
   "nbconvert_exporter": "python",
   "pygments_lexer": "ipython3",
   "version": "3.5.4"
  }
 },
 "nbformat": 4,
 "nbformat_minor": 2
}

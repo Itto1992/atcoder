{
 "cells": [
  {
   "cell_type": "code",
   "execution_count": null,
   "metadata": {},
   "outputs": [],
   "source": [
    "import sys\n",
    "\n",
    "\n",
    "def main():\n",
    "    # 読み込み回数が多い場合\n",
    "    input = sys.stdin.readline\n",
    "    # 複数\n",
    "    N, K = map(int, input().split())\n",
    "\n",
    "    # リスト読み込み\n",
    "    V_A = [inp for inp in map(int, input().split())]\n",
    "    V_B = V_A.copy()[::-1]\n",
    "    \n",
    "    ret = 0\n",
    "    for A in range(min(K + 1, N + 1)):\n",
    "        for B in range(min(K - A + 1, N - A + 1)):\n",
    "            left_jewels = V_A.copy()[:A]\n",
    "            right_jewels = V_B.copy()[:B]\n",
    "\n",
    "            if len(left_jewels) >= len(right_jewels):\n",
    "                jewels = left_jewels\n",
    "                jewels.extend(right_jewels)\n",
    "            else:\n",
    "                jewels = right_jewels\n",
    "                jewels.extend(left_jewels)\n",
    "            jewels.sort()\n",
    "\n",
    "            score = sum(jewels)\n",
    "\n",
    "            for i in range(min(K - A - B, len(jewels))):\n",
    "                jewel = jewels[i]\n",
    "                if jewel < 0:\n",
    "                    score -= jewel\n",
    "                else:\n",
    "                    break\n",
    "                    \n",
    "            ret = max(ret, score)\n",
    "                \n",
    "    print(ret)\n",
    "\n",
    "    \n",
    "if __name__ == \"__main__\":\n",
    "    main()"
   ]
  },
  {
   "cell_type": "markdown",
   "metadata": {},
   "source": [
    "### 解法\n",
    "操作AをA回、操作BをB回行い、その後(K-A-B)回以下負の宝石を捨てる。Kが大きいときにループ範囲をクリップしないとA、Bでスライス取得する範囲が被ってWAが出ることがある。"
   ]
  },
  {
   "cell_type": "markdown",
   "metadata": {},
   "source": [
    "### 速度比較"
   ]
  },
  {
   "cell_type": "markdown",
   "metadata": {},
   "source": [
    "#### スライスアクセスするなら辞書よりリストの方が早い"
   ]
  },
  {
   "cell_type": "code",
   "execution_count": 1,
   "metadata": {
    "ExecuteTime": {
     "end_time": "2019-12-19T01:16:37.649740Z",
     "start_time": "2019-12-19T01:16:33.415967Z"
    }
   },
   "outputs": [
    {
     "name": "stdout",
     "output_type": "stream",
     "text": [
      "5.2 µs ± 54.8 ns per loop (mean ± std. dev. of 7 runs, 100000 loops each)\n"
     ]
    }
   ],
   "source": [
    "%%timeit\n",
    "\n",
    "x = {i: i for i in range(100)}\n",
    "ret = [x[i] for i in range(10)]"
   ]
  },
  {
   "cell_type": "code",
   "execution_count": 2,
   "metadata": {
    "ExecuteTime": {
     "end_time": "2019-12-19T01:17:01.169622Z",
     "start_time": "2019-12-19T01:16:59.024647Z"
    }
   },
   "outputs": [
    {
     "name": "stdout",
     "output_type": "stream",
     "text": [
      "2.61 µs ± 50.1 ns per loop (mean ± std. dev. of 7 runs, 100000 loops each)\n"
     ]
    }
   ],
   "source": [
    "%%timeit\n",
    "\n",
    "x = [i for i in range(100)]\n",
    "ret = x[:10]"
   ]
  },
  {
   "cell_type": "markdown",
   "metadata": {},
   "source": [
    "#### マイナススライスは先頭からのスライスと速度的に変わらない"
   ]
  },
  {
   "cell_type": "code",
   "execution_count": 6,
   "metadata": {
    "ExecuteTime": {
     "end_time": "2019-12-19T01:17:54.544676Z",
     "start_time": "2019-12-19T01:17:52.048037Z"
    }
   },
   "outputs": [
    {
     "name": "stdout",
     "output_type": "stream",
     "text": [
      "3.04 ms ± 205 µs per loop (mean ± std. dev. of 7 runs, 100 loops each)\n"
     ]
    }
   ],
   "source": [
    "%%timeit\n",
    "\n",
    "x = [i for i in range(100000)]\n",
    "ret = x[:10]"
   ]
  },
  {
   "cell_type": "code",
   "execution_count": 7,
   "metadata": {
    "ExecuteTime": {
     "end_time": "2019-12-19T01:18:23.101143Z",
     "start_time": "2019-12-19T01:18:20.645384Z"
    }
   },
   "outputs": [
    {
     "name": "stdout",
     "output_type": "stream",
     "text": [
      "2.98 ms ± 86.7 µs per loop (mean ± std. dev. of 7 runs, 100 loops each)\n"
     ]
    }
   ],
   "source": [
    "%%timeit\n",
    "\n",
    "x = [i for i in range(100000)]\n",
    "ret = x[-10:]"
   ]
  },
  {
   "cell_type": "code",
   "execution_count": null,
   "metadata": {},
   "outputs": [],
   "source": []
  }
 ],
 "metadata": {
  "kernelspec": {
   "display_name": "Python 3",
   "language": "python",
   "name": "python3"
  },
  "language_info": {
   "codemirror_mode": {
    "name": "ipython",
    "version": 3
   },
   "file_extension": ".py",
   "mimetype": "text/x-python",
   "name": "python",
   "nbconvert_exporter": "python",
   "pygments_lexer": "ipython3",
   "version": "3.7.3"
  },
  "latex_envs": {
   "LaTeX_envs_menu_present": true,
   "autoclose": false,
   "autocomplete": true,
   "bibliofile": "biblio.bib",
   "cite_by": "apalike",
   "current_citInitial": 1,
   "eqLabelWithNumbers": true,
   "eqNumInitial": 1,
   "hotkeys": {
    "equation": "Ctrl-E",
    "itemize": "Ctrl-I"
   },
   "labels_anchors": false,
   "latex_user_defs": false,
   "report_style_numbering": false,
   "user_envs_cfg": false
  },
  "toc": {
   "base_numbering": 1,
   "nav_menu": {},
   "number_sections": true,
   "sideBar": true,
   "skip_h1_title": false,
   "title_cell": "Table of Contents",
   "title_sidebar": "Contents",
   "toc_cell": false,
   "toc_position": {},
   "toc_section_display": true,
   "toc_window_display": false
  },
  "varInspector": {
   "cols": {
    "lenName": 16,
    "lenType": 16,
    "lenVar": 40
   },
   "kernels_config": {
    "python": {
     "delete_cmd_postfix": "",
     "delete_cmd_prefix": "del ",
     "library": "var_list.py",
     "varRefreshCmd": "print(var_dic_list())"
    },
    "r": {
     "delete_cmd_postfix": ") ",
     "delete_cmd_prefix": "rm(",
     "library": "var_list.r",
     "varRefreshCmd": "cat(var_dic_list()) "
    }
   },
   "types_to_exclude": [
    "module",
    "function",
    "builtin_function_or_method",
    "instance",
    "_Feature"
   ],
   "window_display": true
  }
 },
 "nbformat": 4,
 "nbformat_minor": 2
}

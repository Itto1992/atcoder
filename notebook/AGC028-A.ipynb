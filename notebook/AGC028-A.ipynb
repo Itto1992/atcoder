{
 "cells": [
  {
   "cell_type": "code",
   "execution_count": null,
   "metadata": {},
   "outputs": [],
   "source": [
    "import bisect\n",
    "import math\n",
    "import sys\n",
    "from collections import defaultdict\n",
    "from copy import copy\n",
    "from heapq import heapify, heappop, heappush, heapreplace\n",
    "from operator import itemgetter\n",
    "from queue import LifoQueue, PriorityQueue, Queue\n",
    "\n",
    "read = sys.stdin.buffer.read\n",
    "readline = sys.stdin.buffer.readline\n",
    "readlines = sys.stdin.buffer.readlines\n",
    "\n",
    "\n",
    "def main():\n",
    "    N, M = map(int, readline().split())\n",
    "    S, T = readlines()\n",
    "\n",
    "    # 常に N<=M が成立\n",
    "    if N > M:\n",
    "        N, M = M, N\n",
    "        S, T = T, S\n",
    "    \n",
    "    n, m = copy(N), copy(M)\n",
    "    while m != 0:\n",
    "        n, m = m, n%m\n",
    "    if n == 1:\n",
    "        if S[0] == T[0]:\n",
    "            print(N*M)\n",
    "        else:\n",
    "            print(-1)\n",
    "    else:\n",
    "        L = N * M / n\n",
    "        for i in range(N):\n",
    "            if S[i * L / N + 1] != T[i *  L / N + 1]:\n",
    "                print(-1)\n",
    "                sys.exit()\n",
    "\n",
    "        print(L)\n",
    "\n",
    "\n",
    "if __name__ == \"__main__\":\n",
    "    main()"
   ]
  },
  {
   "cell_type": "code",
   "execution_count": null,
   "metadata": {},
   "outputs": [],
   "source": [
    "import sys\n",
    "\n",
    "readline = sys.stdin.buffer.readline\n",
    "readlines = sys.stdin.buffer.readlines\n",
    "\n",
    "\n",
    "def main():\n",
    "    N, M = map(int, readline().split())\n",
    "    S, T = readlines()\n",
    "\n",
    "    def gcd(a, b):\n",
    "        while b > 0:\n",
    "            a, b = b, a%b\n",
    "        return a\n",
    "    \n",
    "    GCD = gcd(N, M)\n",
    "    if S[0::N//GCD] == T[0::M//GCD]:\n",
    "        print(N*M//GCD)\n",
    "    else:\n",
    "        print(-1)\n",
    "    \n",
    "if __name__ == \"__main__\":\n",
    "    main()"
   ]
  }
 ],
 "metadata": {
  "kernelspec": {
   "display_name": "Python 3",
   "language": "python",
   "name": "python3"
  },
  "language_info": {
   "codemirror_mode": {
    "name": "ipython",
    "version": 3
   },
   "file_extension": ".py",
   "mimetype": "text/x-python",
   "name": "python",
   "nbconvert_exporter": "python",
   "pygments_lexer": "ipython3",
   "version": "3.7.3"
  },
  "latex_envs": {
   "LaTeX_envs_menu_present": true,
   "autoclose": false,
   "autocomplete": true,
   "bibliofile": "biblio.bib",
   "cite_by": "apalike",
   "current_citInitial": 1,
   "eqLabelWithNumbers": true,
   "eqNumInitial": 1,
   "hotkeys": {
    "equation": "Ctrl-E",
    "itemize": "Ctrl-I"
   },
   "labels_anchors": false,
   "latex_user_defs": false,
   "report_style_numbering": false,
   "user_envs_cfg": false
  },
  "toc": {
   "base_numbering": 1,
   "nav_menu": {},
   "number_sections": true,
   "sideBar": true,
   "skip_h1_title": false,
   "title_cell": "Table of Contents",
   "title_sidebar": "Contents",
   "toc_cell": false,
   "toc_position": {},
   "toc_section_display": true,
   "toc_window_display": false
  },
  "varInspector": {
   "cols": {
    "lenName": 16,
    "lenType": 16,
    "lenVar": 40
   },
   "kernels_config": {
    "python": {
     "delete_cmd_postfix": "",
     "delete_cmd_prefix": "del ",
     "library": "var_list.py",
     "varRefreshCmd": "print(var_dic_list())"
    },
    "r": {
     "delete_cmd_postfix": ") ",
     "delete_cmd_prefix": "rm(",
     "library": "var_list.r",
     "varRefreshCmd": "cat(var_dic_list()) "
    }
   },
   "types_to_exclude": [
    "module",
    "function",
    "builtin_function_or_method",
    "instance",
    "_Feature"
   ],
   "window_display": true
  }
 },
 "nbformat": 4,
 "nbformat_minor": 2
}

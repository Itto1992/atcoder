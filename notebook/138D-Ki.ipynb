{
 "cells": [
  {
   "cell_type": "markdown",
   "metadata": {},
   "source": [
    "### 提出したコード\n",
    "pypy3では通ったが、python3で通るかはわからない"
   ]
  },
  {
   "cell_type": "code",
   "execution_count": null,
   "metadata": {
    "collapsed": true
   },
   "outputs": [],
   "source": [
    "import sys\n",
    "import queue\n",
    "\n",
    "\n",
    "def main():\n",
    "    input = sys.stdin.readline\n",
    "    N, Q = map(int, input().split())\n",
    "\n",
    "    edges = {i : [] for i in range(1, N+1)}\n",
    "    for i in range(N-1):\n",
    "        a, b = map(int, input().split())\n",
    "        edges[a].append(b)\n",
    "        edges[b].append(a)\n",
    "    \n",
    "    values = {i : 0 for i in range(1, N+1)}\n",
    "    for i in range(Q):\n",
    "        p, x = map(int, input().split())\n",
    "        values[p] += x\n",
    "    \n",
    "    has_noparent = {i : True for i in range(1, N+1)}\n",
    "    has_noparent[1] = False\n",
    "    \n",
    "    q = queue.Queue()\n",
    "    q.put(1)\n",
    "    \n",
    "    while not q.empty():\n",
    "        parent = q.get()\n",
    "        value_parent = values[parent]\n",
    "        for child in edges[parent]:\n",
    "            if has_noparent[child]:\n",
    "                values[child] += value_parent\n",
    "                q.put(child)\n",
    "                has_noparent[child] = False\n",
    "\n",
    "    ret = [str(i) for i in values.values()]\n",
    "    ret = ' '.join(ret)\n",
    "    print(ret)\n",
    "    \n",
    "if __name__==\"__main__\":\n",
    "    main()"
   ]
  },
  {
   "cell_type": "markdown",
   "metadata": {},
   "source": [
    "### 解法\n",
    "- 最初に無向グラフが与えられるので根付き木に変換する 親から子を辿るためにqueueを使う\n",
    "- 親の値を子に足していく\n",
    "- 親は一人しかいないので、一人の子当たり足されるのは1回のみ これをチェックするために辞書を使う"
   ]
  },
  {
   "cell_type": "code",
   "execution_count": 1,
   "metadata": {},
   "outputs": [
    {
     "name": "stdout",
     "output_type": "stream",
     "text": [
      "100 110 111 110\n"
     ]
    }
   ],
   "source": [
    "import sys\n",
    "import queue\n",
    "\n",
    "\n",
    "def main():\n",
    "    f = open(\"138D-Ki.txt\")\n",
    "    inp = f.readlines()\n",
    "    f.close()\n",
    "    \n",
    "    N, Q = map(int, inp[0].split())\n",
    "\n",
    "    edges = {i : [] for i in range(1, N+1)}\n",
    "    for i in range(N-1):\n",
    "        a, b = map(int, inp[i+1].split())\n",
    "        edges[a].append(b)\n",
    "        edges[b].append(a)\n",
    "        \n",
    "    values = {i : 0 for i in range(1, N+1)}\n",
    "    for i in range(Q):\n",
    "        p, x = map(int, inp[N+i].split())\n",
    "        values[p] += x\n",
    "        \n",
    "    has_noparent = {i : True for i in range(1, N+1)}\n",
    "    has_noparent[1] = False\n",
    "    \n",
    "    q = queue.Queue()\n",
    "    q.put(1)\n",
    "    \n",
    "    while not q.empty():\n",
    "        parent = q.get()\n",
    "        value_parent = values[parent]\n",
    "        for child in edges[parent]:\n",
    "            if has_noparent[child]:\n",
    "                values[child] += value_parent\n",
    "                q.put(child)\n",
    "                has_noparent[child] = False\n",
    "\n",
    "    ret = [str(i) for i in values.values()]\n",
    "    ret = ' '.join(ret)\n",
    "    print(ret)\n",
    "    \n",
    "if __name__==\"__main__\":\n",
    "    main()"
   ]
  },
  {
   "cell_type": "code",
   "execution_count": null,
   "metadata": {
    "collapsed": true
   },
   "outputs": [],
   "source": []
  }
 ],
 "metadata": {
  "kernelspec": {
   "display_name": "Python 3",
   "language": "python",
   "name": "python3"
  },
  "language_info": {
   "codemirror_mode": {
    "name": "ipython",
    "version": 3
   },
   "file_extension": ".py",
   "mimetype": "text/x-python",
   "name": "python",
   "nbconvert_exporter": "python",
   "pygments_lexer": "ipython3",
   "version": "3.5.4"
  }
 },
 "nbformat": 4,
 "nbformat_minor": 2
}

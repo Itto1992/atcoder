{
 "cells": [
  {
   "cell_type": "markdown",
   "metadata": {},
   "source": [
    "### 最終的なコード\n",
    "【参考】\n",
    "\n",
    "https://atcoder.jp/contests/abc142/submissions/7779125\n",
    "\n",
    "【学びポイント】\n",
    "- **組み込みgcdは遅いので自分で実装する** (後述)\n",
    "- **else: pass は遅くなるので入れる必要ない** (後述)"
   ]
  },
  {
   "cell_type": "code",
   "execution_count": 1,
   "metadata": {},
   "outputs": [
    {
     "name": "stdout",
     "output_type": "stream",
     "text": [
      "6 6\n",
      "3\n"
     ]
    }
   ],
   "source": [
    "def main():\n",
    "    A, B = map(int, input().split())\n",
    "    while B!= 0: \n",
    "        A, B = B, A % B \n",
    "    print(num_prime_factor(A))\n",
    "\n",
    "def num_prime_factor(n):\n",
    "    \n",
    "    if n == 1: return 1\n",
    "    \n",
    "    ret = 1\n",
    "    cursor = 2\n",
    "    if n % cursor == 0: \n",
    "        ret += 1\n",
    "    while n % cursor == 0: \n",
    "        n = n // cursor\n",
    "    \n",
    "    cursor = 3\n",
    "    while cursor**2 <= n:\n",
    "        if n == 1: \n",
    "            return ret\n",
    "        if n % cursor == 0: \n",
    "            ret += 1\n",
    "        while n % cursor == 0: \n",
    "            n = n // cursor\n",
    "        cursor += 2\n",
    "\n",
    "    if n != 1: \n",
    "        ret += 1\n",
    "        \n",
    "    return ret\n",
    "\n",
    "if __name__ == \"__main__\":\n",
    "    main()"
   ]
  },
  {
   "cell_type": "markdown",
   "metadata": {},
   "source": [
    "### 組み込みのgcdは遅い\n",
    "以下の例では8倍程度の差がついている。ループ数によっては変わるのかも。"
   ]
  },
  {
   "cell_type": "code",
   "execution_count": 2,
   "metadata": {},
   "outputs": [
    {
     "name": "stdout",
     "output_type": "stream",
     "text": [
      "418 ns ± 18.4 ns per loop (mean ± std. dev. of 7 runs, 1000000 loops each)\n"
     ]
    }
   ],
   "source": [
    "%%timeit\n",
    "\n",
    "a = 12\n",
    "b = 18\n",
    "\n",
    "while b != 0: a, b = b, a % b "
   ]
  },
  {
   "cell_type": "code",
   "execution_count": 3,
   "metadata": {},
   "outputs": [
    {
     "name": "stderr",
     "output_type": "stream",
     "text": [
      "/Users/higuchiitto/.pyenv/versions/anaconda3-2.5.0/lib/python3.5/site-packages/ipykernel_launcher.py:263: DeprecationWarning: fractions.gcd() is deprecated. Use math.gcd() instead.\n"
     ]
    },
    {
     "name": "stdout",
     "output_type": "stream",
     "text": [
      "3.28 µs ± 327 ns per loop (mean ± std. dev. of 7 runs, 100000 loops each)\n"
     ]
    }
   ],
   "source": [
    "%%timeit\n",
    "\n",
    "import fractions\n",
    "\n",
    "a = 12\n",
    "b = 18\n",
    "\n",
    "fractions.gcd(a, b)"
   ]
  },
  {
   "cell_type": "markdown",
   "metadata": {},
   "source": [
    "#### モジュールインポートしなくても遅い"
   ]
  },
  {
   "cell_type": "code",
   "execution_count": 4,
   "metadata": {
    "collapsed": true
   },
   "outputs": [],
   "source": [
    "import fractions"
   ]
  },
  {
   "cell_type": "code",
   "execution_count": 5,
   "metadata": {},
   "outputs": [
    {
     "name": "stderr",
     "output_type": "stream",
     "text": [
      "/Users/higuchiitto/.pyenv/versions/anaconda3-2.5.0/lib/python3.5/site-packages/ipykernel_launcher.py:261: DeprecationWarning: fractions.gcd() is deprecated. Use math.gcd() instead.\n"
     ]
    },
    {
     "name": "stdout",
     "output_type": "stream",
     "text": [
      "2.75 µs ± 198 ns per loop (mean ± std. dev. of 7 runs, 100000 loops each)\n"
     ]
    }
   ],
   "source": [
    "%%timeit\n",
    "\n",
    "a = 12\n",
    "b = 18\n",
    "\n",
    "fractions.gcd(a, b)"
   ]
  },
  {
   "cell_type": "markdown",
   "metadata": {},
   "source": [
    "### else処理で何もしないなら入れない方が早い\n",
    "個人的には可読性重視で入れたいが、競プロ的には入れない方が正解ぽい。"
   ]
  },
  {
   "cell_type": "code",
   "execution_count": 6,
   "metadata": {
    "scrolled": true
   },
   "outputs": [
    {
     "name": "stdout",
     "output_type": "stream",
     "text": [
      "37.3 ns ± 1.83 ns per loop (mean ± std. dev. of 7 runs, 10000000 loops each)\n"
     ]
    }
   ],
   "source": [
    "%%timeit\n",
    "\n",
    "_bool = False\n",
    "\n",
    "if _bool:\n",
    "    print(1)\n",
    "else:\n",
    "    pass"
   ]
  },
  {
   "cell_type": "code",
   "execution_count": 7,
   "metadata": {
    "scrolled": true
   },
   "outputs": [
    {
     "name": "stdout",
     "output_type": "stream",
     "text": [
      "32.8 ns ± 1.68 ns per loop (mean ± std. dev. of 7 runs, 10000000 loops each)\n"
     ]
    }
   ],
   "source": [
    "%%timeit\n",
    "\n",
    "_bool = False\n",
    "\n",
    "if _bool:\n",
    "    print(1)"
   ]
  },
  {
   "cell_type": "code",
   "execution_count": null,
   "metadata": {
    "collapsed": true
   },
   "outputs": [],
   "source": []
  }
 ],
 "metadata": {
  "kernelspec": {
   "display_name": "Python 3",
   "language": "python",
   "name": "python3"
  },
  "language_info": {
   "codemirror_mode": {
    "name": "ipython",
    "version": 3
   },
   "file_extension": ".py",
   "mimetype": "text/x-python",
   "name": "python",
   "nbconvert_exporter": "python",
   "pygments_lexer": "ipython3",
   "version": "3.5.4"
  }
 },
 "nbformat": 4,
 "nbformat_minor": 2
}

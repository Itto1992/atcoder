{
 "cells": [
  {
   "cell_type": "markdown",
   "metadata": {},
   "source": [
    "## 問題\n",
    "https://atcoder.jp/contests/abc127/tasks/abc127_d"
   ]
  },
  {
   "cell_type": "markdown",
   "metadata": {},
   "source": [
    "## 提出コード"
   ]
  },
  {
   "cell_type": "code",
   "execution_count": null,
   "metadata": {},
   "outputs": [],
   "source": [
    "import sys\n",
    "from collections import defaultdict\n",
    "\n",
    "\n",
    "def main():\n",
    "    input = sys.stdin.readline\n",
    "    N, M = map(int, input().split())\n",
    "    \n",
    "    A = defaultdict(int)\n",
    "    for i in map(int, input().split()):\n",
    "        A[i] += 1\n",
    "        \n",
    "    for i in range(M):\n",
    "        B, C = map(int, input().split())\n",
    "        A[C] += B\n",
    "        \n",
    "    ret = 0\n",
    "    count = 0\n",
    "    for value, num_value in sorted(A.items(), key=lambda x:x[0])[::-1]:\n",
    "        num_value = min(num_value, N - count)\n",
    "        ret += value * num_value\n",
    "        count += num_value\n",
    "        if num_value == N:\n",
    "            break\n",
    "    \n",
    "    print(ret)\n",
    "\n",
    "\n",
    "if __name__ == \"__main__\":\n",
    "    main()"
   ]
  },
  {
   "cell_type": "markdown",
   "metadata": {},
   "source": [
    "### 解法\n",
    "各数が何回出てきたかを数えておいて最後に上からN個取ってきて足し合わせる。ループは高々max(M, N)程度しか回らないので間に合う。"
   ]
  },
  {
   "cell_type": "markdown",
   "metadata": {},
   "source": [
    "## TLEしそうな実装"
   ]
  },
  {
   "cell_type": "markdown",
   "metadata": {},
   "source": [
    "### ヒープキューで頑張る\n",
    "サンプルコードは全部通ったがワーストケースで計算量が$M^2log(N)$になるので間に合わない"
   ]
  },
  {
   "cell_type": "code",
   "execution_count": null,
   "metadata": {},
   "outputs": [],
   "source": [
    "import heapq\n",
    "import sys\n",
    "\n",
    "\n",
    "def main():\n",
    "    input = sys.stdin.readline\n",
    "    N, M = map(int, input().split())\n",
    "    \n",
    "    # heap queue\n",
    "    h = [i for i in map(int, input().split())]\n",
    "    h.sort()\n",
    "    heapq.heapify(h)\n",
    "\n",
    "    for i in range(M):\n",
    "        B, C = map(int, input().split())\n",
    "        for j in range(B):\n",
    "            min_value = heapq.heappop(h)\n",
    "            if min_value < C:\n",
    "                heapq.heappush(h, C)\n",
    "            else:\n",
    "                heapq.heappush(h, min_value)\n",
    "                break\n",
    "\n",
    "    print(sum(h))\n",
    "\n",
    "\n",
    "if __name__ == \"__main__\":\n",
    "    main()"
   ]
  },
  {
   "cell_type": "markdown",
   "metadata": {},
   "source": [
    "### リストに挿入 \n",
    "二分探索でCより大きい最小のインデックスを探して挿入する。その後小さい値を捨てる。貫禄のTLE。"
   ]
  },
  {
   "cell_type": "code",
   "execution_count": null,
   "metadata": {},
   "outputs": [],
   "source": [
    "import bisect\n",
    "import sys\n",
    "\n",
    "\n",
    "def main():\n",
    "    input = sys.stdin.readline\n",
    "    N, M = map(int, input().split())\n",
    "    \n",
    "    A = [i for i in map(int, input().split())]\n",
    "    A.sort()\n",
    "\n",
    "    for i in range(M):\n",
    "        B, C = map(int, input().split())\n",
    "        insert_index = bisect.bisect_left(A, C)\n",
    "        A[insert_index:insert_index] = [C for i in range(B)]\n",
    "        A = A[-N:]\n",
    "\n",
    "    print(sum(A))\n",
    "\n",
    "\n",
    "if __name__ == \"__main__\":\n",
    "    main()"
   ]
  }
 ],
 "metadata": {
  "kernelspec": {
   "display_name": "Python 3",
   "language": "python",
   "name": "python3"
  },
  "language_info": {
   "codemirror_mode": {
    "name": "ipython",
    "version": 3
   },
   "file_extension": ".py",
   "mimetype": "text/x-python",
   "name": "python",
   "nbconvert_exporter": "python",
   "pygments_lexer": "ipython3",
   "version": "3.7.3"
  },
  "latex_envs": {
   "LaTeX_envs_menu_present": true,
   "autoclose": false,
   "autocomplete": true,
   "bibliofile": "biblio.bib",
   "cite_by": "apalike",
   "current_citInitial": 1,
   "eqLabelWithNumbers": true,
   "eqNumInitial": 1,
   "hotkeys": {
    "equation": "Ctrl-E",
    "itemize": "Ctrl-I"
   },
   "labels_anchors": false,
   "latex_user_defs": false,
   "report_style_numbering": false,
   "user_envs_cfg": false
  },
  "toc": {
   "base_numbering": 1,
   "nav_menu": {},
   "number_sections": true,
   "sideBar": true,
   "skip_h1_title": false,
   "title_cell": "Table of Contents",
   "title_sidebar": "Contents",
   "toc_cell": false,
   "toc_position": {},
   "toc_section_display": true,
   "toc_window_display": false
  },
  "varInspector": {
   "cols": {
    "lenName": 16,
    "lenType": 16,
    "lenVar": 40
   },
   "kernels_config": {
    "python": {
     "delete_cmd_postfix": "",
     "delete_cmd_prefix": "del ",
     "library": "var_list.py",
     "varRefreshCmd": "print(var_dic_list())"
    },
    "r": {
     "delete_cmd_postfix": ") ",
     "delete_cmd_prefix": "rm(",
     "library": "var_list.r",
     "varRefreshCmd": "cat(var_dic_list()) "
    }
   },
   "types_to_exclude": [
    "module",
    "function",
    "builtin_function_or_method",
    "instance",
    "_Feature"
   ],
   "window_display": true
  }
 },
 "nbformat": 4,
 "nbformat_minor": 2
}

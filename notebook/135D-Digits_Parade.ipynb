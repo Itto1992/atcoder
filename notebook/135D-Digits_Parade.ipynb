{
 "cells": [
  {
   "cell_type": "code",
   "execution_count": null,
   "metadata": {},
   "outputs": [],
   "source": [
    "def main():\n",
    "    S = {i:s for i, s in enumerate(input()[::-1])}\n",
    "    MOD = 10**9 + 7\n",
    "\n",
    "    DP_table = [[0 for i in range(13)] for j in range(len(S))]\n",
    "    \n",
    "    digit = S[0]\n",
    "    if digit == '?':\n",
    "        for i in range(10):\n",
    "            DP_table[0][i] = 1\n",
    "    else:\n",
    "        DP_table[0][int(digit)] = 1\n",
    "    \n",
    "    multiplier = 1\n",
    "    for i in range(1, len(S)):\n",
    "        digit = S[i]\n",
    "        multiplier = multiplier * 10 % 13\n",
    "        if digit == '?':\n",
    "            for j in range(10):\n",
    "                for k in range(13):\n",
    "                    DP_table[i][(j * multiplier + k) % 13] += DP_table[i-1][k]\n",
    "        else:\n",
    "            digit = int(digit)\n",
    "            for k in range(13):\n",
    "                DP_table[i][(digit * multiplier + k) % 13] += DP_table[i-1][k]\n",
    "        \n",
    "        for j in range(13):\n",
    "            DP_table[i][j] %= MOD\n",
    "\n",
    "    print(DP_table[len(S)-1][5])\n",
    "\n",
    "if __name__ == \"__main__\":\n",
    "    main()\n"
   ]
  },
  {
   "cell_type": "markdown",
   "metadata": {},
   "source": [
    "### 桁が多くとも演算回数が少ない方が早い"
   ]
  },
  {
   "cell_type": "code",
   "execution_count": 11,
   "metadata": {
    "ExecuteTime": {
     "end_time": "2019-12-19T03:49:32.242291Z",
     "start_time": "2019-12-19T03:49:28.513958Z"
    }
   },
   "outputs": [
    {
     "name": "stdout",
     "output_type": "stream",
     "text": [
      "457 ns ± 5.63 ns per loop (mean ± std. dev. of 7 runs, 1000000 loops each)\n"
     ]
    }
   ],
   "source": [
    "%%timeit\n",
    "\n",
    "(10**50 + 6) % 13"
   ]
  },
  {
   "cell_type": "code",
   "execution_count": 12,
   "metadata": {
    "ExecuteTime": {
     "end_time": "2019-12-19T03:49:36.859754Z",
     "start_time": "2019-12-19T03:49:33.126704Z"
    }
   },
   "outputs": [
    {
     "name": "stdout",
     "output_type": "stream",
     "text": [
      "457 ns ± 3.17 ns per loop (mean ± std. dev. of 7 runs, 1000000 loops each)\n"
     ]
    }
   ],
   "source": [
    "%%timeit\n",
    "\n",
    "(10**50 % 13 + 6) % 13"
   ]
  },
  {
   "cell_type": "markdown",
   "metadata": {},
   "source": [
    "### defaultdictは遅いので自分で初期化した方がいい"
   ]
  },
  {
   "cell_type": "code",
   "execution_count": 28,
   "metadata": {
    "ExecuteTime": {
     "end_time": "2019-12-19T04:44:06.198471Z",
     "start_time": "2019-12-19T04:43:52.378047Z"
    }
   },
   "outputs": [
    {
     "name": "stdout",
     "output_type": "stream",
     "text": [
      "1.64 s ± 22 ms per loop (mean ± std. dev. of 7 runs, 1 loop each)\n"
     ]
    }
   ],
   "source": [
    "%%timeit\n",
    "\n",
    "d = {i : 0 for i in range(10000000)}\n",
    "\n",
    "for i in range(10000000):\n",
    "    d[i] += 1"
   ]
  },
  {
   "cell_type": "code",
   "execution_count": 27,
   "metadata": {
    "ExecuteTime": {
     "end_time": "2019-12-19T04:43:27.024536Z",
     "start_time": "2019-12-19T04:43:10.990453Z"
    }
   },
   "outputs": [
    {
     "name": "stdout",
     "output_type": "stream",
     "text": [
      "1.91 s ± 21.4 ms per loop (mean ± std. dev. of 7 runs, 1 loop each)\n"
     ]
    }
   ],
   "source": [
    "%%timeit\n",
    "\n",
    "from collections import defaultdict\n",
    "\n",
    "d = defaultdict(int)\n",
    "\n",
    "for i in range(10000000):\n",
    "    d[i] += 1"
   ]
  },
  {
   "cell_type": "code",
   "execution_count": 29,
   "metadata": {
    "ExecuteTime": {
     "end_time": "2019-12-19T04:45:19.142269Z",
     "start_time": "2019-12-19T04:45:18.477670Z"
    }
   },
   "outputs": [
    {
     "data": {
      "text/plain": [
       "10000000"
      ]
     },
     "execution_count": 29,
     "metadata": {},
     "output_type": "execute_result"
    }
   ],
   "source": [
    "d = {i : 0 for i in range(10000000)}\n",
    "len(d)"
   ]
  },
  {
   "cell_type": "code",
   "execution_count": 31,
   "metadata": {
    "ExecuteTime": {
     "end_time": "2019-12-19T05:04:23.153104Z",
     "start_time": "2019-12-19T05:04:09.375505Z"
    }
   },
   "outputs": [
    {
     "name": "stdout",
     "output_type": "stream",
     "text": [
      "1.61 s ± 8.81 ms per loop (mean ± std. dev. of 7 runs, 1 loop each)\n"
     ]
    }
   ],
   "source": [
    "%%timeit\n",
    "\n",
    "d = {i : 0 for i in range(10000000)}\n",
    "\n",
    "for i in range(10000000):\n",
    "    surplus = i % 13\n",
    "    d[surplus] += 1"
   ]
  },
  {
   "cell_type": "code",
   "execution_count": 32,
   "metadata": {
    "ExecuteTime": {
     "end_time": "2019-12-19T05:04:39.317148Z",
     "start_time": "2019-12-19T05:04:25.899019Z"
    }
   },
   "outputs": [
    {
     "name": "stdout",
     "output_type": "stream",
     "text": [
      "1.57 s ± 26.2 ms per loop (mean ± std. dev. of 7 runs, 1 loop each)\n"
     ]
    }
   ],
   "source": [
    "%%timeit\n",
    "\n",
    "d = {i : 0 for i in range(10000000)}\n",
    "\n",
    "for i in range(10000000): \n",
    "    d[i % 13] += 1"
   ]
  },
  {
   "cell_type": "markdown",
   "metadata": {},
   "source": [
    "### 計算は分けるよりまとめた方が早い"
   ]
  },
  {
   "cell_type": "code",
   "execution_count": 33,
   "metadata": {
    "ExecuteTime": {
     "end_time": "2019-12-19T05:06:14.603229Z",
     "start_time": "2019-12-19T05:06:09.916048Z"
    }
   },
   "outputs": [
    {
     "name": "stdout",
     "output_type": "stream",
     "text": [
      "5.71 ms ± 68.9 µs per loop (mean ± std. dev. of 7 runs, 100 loops each)\n"
     ]
    }
   ],
   "source": [
    "%%timeit\n",
    "\n",
    "x = 1\n",
    "for i in range(100000):\n",
    "    x *= 10\n",
    "    x %= 13"
   ]
  },
  {
   "cell_type": "code",
   "execution_count": 34,
   "metadata": {
    "ExecuteTime": {
     "end_time": "2019-12-19T05:06:26.650769Z",
     "start_time": "2019-12-19T05:06:22.570632Z"
    }
   },
   "outputs": [
    {
     "name": "stdout",
     "output_type": "stream",
     "text": [
      "5.02 ms ± 38 µs per loop (mean ± std. dev. of 7 runs, 100 loops each)\n"
     ]
    }
   ],
   "source": [
    "%%timeit\n",
    "\n",
    "x = 1\n",
    "for i in range(100000):\n",
    "    x = x * 10 % 13"
   ]
  },
  {
   "cell_type": "markdown",
   "metadata": {},
   "source": [
    "### 期待的に型変換するより条件分岐した方が早い"
   ]
  },
  {
   "cell_type": "code",
   "execution_count": 41,
   "metadata": {
    "ExecuteTime": {
     "end_time": "2019-12-19T05:10:45.133934Z",
     "start_time": "2019-12-19T05:10:42.101813Z"
    }
   },
   "outputs": [
    {
     "name": "stdout",
     "output_type": "stream",
     "text": [
      "3.68 µs ± 76.4 ns per loop (mean ± std. dev. of 7 runs, 100000 loops each)\n"
     ]
    }
   ],
   "source": [
    "%%timeit\n",
    "\n",
    "X = [str(i) for i in range(10)]\n",
    "for _x in X:\n",
    "    x = int(_x)"
   ]
  },
  {
   "cell_type": "code",
   "execution_count": 42,
   "metadata": {
    "ExecuteTime": {
     "end_time": "2019-12-19T05:11:16.258418Z",
     "start_time": "2019-12-19T05:11:13.545204Z"
    }
   },
   "outputs": [
    {
     "name": "stdout",
     "output_type": "stream",
     "text": [
      "3.3 µs ± 46.8 ns per loop (mean ± std. dev. of 7 runs, 100000 loops each)\n"
     ]
    }
   ],
   "source": [
    "%%timeit\n",
    "\n",
    "X = [str(i) for i in range(10)]\n",
    "for _x in X:\n",
    "    if _x == '0':\n",
    "        x = 0\n",
    "    elif _x == '1':\n",
    "        x = 1\n",
    "    elif _x == '2':\n",
    "        x = 2\n",
    "    elif _x == '3':\n",
    "        x = 3\n",
    "    elif _x == '4':\n",
    "        x = 4\n",
    "    elif _x == '5':\n",
    "        x = 5\n",
    "    elif x == '6':\n",
    "        x = 6\n",
    "    elif x == '7':\n",
    "        x = 7\n",
    "    elif x == '8':\n",
    "        x = 8\n",
    "    else:\n",
    "        x = 9"
   ]
  },
  {
   "cell_type": "markdown",
   "metadata": {},
   "source": [
    "### 答えは合ってそうだけどTLEするやつ"
   ]
  },
  {
   "cell_type": "code",
   "execution_count": null,
   "metadata": {},
   "outputs": [],
   "source": [
    "def main():\n",
    "    S = {i:s for i, s in enumerate(input()[::-1])}\n",
    "    MOD = 10**9 + 7\n",
    "\n",
    "    DP_table = {(i, j):0 for i in range(1, len(S)+1) for j in range(13)}\n",
    "    \n",
    "    digit = S[0]\n",
    "    if digit == '?':\n",
    "        for i in range(10):\n",
    "            DP_table[(1, i)] = 1\n",
    "    else:\n",
    "        DP_table[(1, int(digit))] = 1\n",
    "    \n",
    "    multiplier = 1\n",
    "    for i in range(1, len(S)):\n",
    "        digit = S[i]\n",
    "        multiplier = multiplier * 10 % 13\n",
    "        if digit == '?':\n",
    "            for j in range(10):\n",
    "                for k in range(13):\n",
    "                    DP_table[(i + 1, (j * multiplier + k) % 13)] += DP_table[(i, k)]\n",
    "        else:\n",
    "            digit = int(digit)\n",
    "            for k in range(13):\n",
    "                DP_table[(i + 1, (digit * multiplier + k) % 13)] += DP_table[(i, k)]\n",
    "        \n",
    "        for j in range(13):\n",
    "            DP_table[(i + 1, j)] %= MOD\n",
    "\n",
    "    print(DP_table[(len(S), 5)])\n",
    "\n",
    "if __name__ == \"__main__\":\n",
    "    main()\n"
   ]
  }
 ],
 "metadata": {
  "kernelspec": {
   "display_name": "Python 3",
   "language": "python",
   "name": "python3"
  },
  "language_info": {
   "codemirror_mode": {
    "name": "ipython",
    "version": 3
   },
   "file_extension": ".py",
   "mimetype": "text/x-python",
   "name": "python",
   "nbconvert_exporter": "python",
   "pygments_lexer": "ipython3",
   "version": "3.7.3"
  },
  "latex_envs": {
   "LaTeX_envs_menu_present": true,
   "autoclose": false,
   "autocomplete": true,
   "bibliofile": "biblio.bib",
   "cite_by": "apalike",
   "current_citInitial": 1,
   "eqLabelWithNumbers": true,
   "eqNumInitial": 1,
   "hotkeys": {
    "equation": "Ctrl-E",
    "itemize": "Ctrl-I"
   },
   "labels_anchors": false,
   "latex_user_defs": false,
   "report_style_numbering": false,
   "user_envs_cfg": false
  },
  "toc": {
   "base_numbering": 1,
   "nav_menu": {},
   "number_sections": true,
   "sideBar": true,
   "skip_h1_title": false,
   "title_cell": "Table of Contents",
   "title_sidebar": "Contents",
   "toc_cell": false,
   "toc_position": {},
   "toc_section_display": true,
   "toc_window_display": false
  },
  "varInspector": {
   "cols": {
    "lenName": 16,
    "lenType": 16,
    "lenVar": 40
   },
   "kernels_config": {
    "python": {
     "delete_cmd_postfix": "",
     "delete_cmd_prefix": "del ",
     "library": "var_list.py",
     "varRefreshCmd": "print(var_dic_list())"
    },
    "r": {
     "delete_cmd_postfix": ") ",
     "delete_cmd_prefix": "rm(",
     "library": "var_list.r",
     "varRefreshCmd": "cat(var_dic_list()) "
    }
   },
   "types_to_exclude": [
    "module",
    "function",
    "builtin_function_or_method",
    "instance",
    "_Feature"
   ],
   "window_display": true
  }
 },
 "nbformat": 4,
 "nbformat_minor": 2
}

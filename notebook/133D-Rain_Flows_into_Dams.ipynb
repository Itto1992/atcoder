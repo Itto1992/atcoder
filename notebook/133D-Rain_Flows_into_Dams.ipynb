{
 "cells": [
  {
   "cell_type": "markdown",
   "metadata": {},
   "source": [
    "### 提出コード"
   ]
  },
  {
   "cell_type": "code",
   "execution_count": null,
   "metadata": {},
   "outputs": [],
   "source": [
    "def main():\n",
    "    N = int(input())\n",
    "    A = {i:inp for i, inp in enumerate(map(int, input().split()), 1)}\n",
    "\n",
    "    for i in range(2, N+1):\n",
    "        A[i] -= A[i - 1]\n",
    "    \n",
    "    const = A[N] // 2\n",
    "    ret = [str(2 * const)]\n",
    "\n",
    "    for i in range(1, N):\n",
    "        if i % 2:\n",
    "            ret.append(str(2 * (A[i] - const)))\n",
    "        else:\n",
    "            ret.append(str(2 * (A[i] + const)))\n",
    "\n",
    "    ret = ' '.join(ret)\n",
    "    print(ret)\n",
    "    \n",
    "\n",
    "if __name__==\"__main__\":\n",
    "    main()"
   ]
  },
  {
   "cell_type": "markdown",
   "metadata": {},
   "source": [
    "### 解法\n",
    "- 各山に$2x_i$の雨が降るとする\n",
    "- これらは以下を満たす\n",
    "    - $i>1$のとき、$A_i = x_{i-1} + x_i$\n",
    "    - $i = 1$のとき、$A_i = x_1 + x_N$\n",
    "- つまりこうなる\n",
    "\\begin{equation}\n",
    "    \\left(\n",
    "    \\begin{array}{rr}\n",
    "    1 & 0 & 0 & 0 & 1 \\\\\n",
    "    1 & 1 & 0 & 0 & 0 \\\\\n",
    "    0 & 1 & 1 & 0 & 0 \\\\\n",
    "    0 & 0 & 1 & 1 & 0 \\\\\n",
    "    0 & 0 & 0 & 1 & 1 \\\\\n",
    "    \\end{array}\n",
    "    \\right) \n",
    "    \\left(\n",
    "    \\begin{array}{rr}\n",
    "    x_1 \\\\\n",
    "    x_2 \\\\\n",
    "    x_3 \\\\\n",
    "    x_4 \\\\\n",
    "    x_5 \\\\\n",
    "    \\end{array}\n",
    "    \\right) \n",
    "    = \n",
    "    \\left(\n",
    "    \\begin{array}{rr}\n",
    "    A_1 \\\\\n",
    "    A_2 \\\\\n",
    "    A_3 \\\\\n",
    "    A_4 \\\\\n",
    "    A_5 \\\\\n",
    "    \\end{array}\n",
    "    \\right) \n",
    "\\end{equation}\n",
    "- 吐き出し法で解く \n",
    "    - 偶数行の最後の列の値は1、奇数行の最後の列の値は-1になる\n",
    "    - 最後の行が奇数ならば最後の値が2 山の数は絶対奇数なので最後の値は2になる\n",
    "\\begin{equation}\n",
    "    \\left(\n",
    "    \\begin{array}{rr}\n",
    "    1 & 0 & 0 & 0 & 1 & A_1\\\\\n",
    "    0 & 1 & 0 & 0 & -1 & A_2 - A_1\\\\\n",
    "    0 & 0 & 1 & 0 & 1 & A_3 - (A_2 - A_1)\\\\\n",
    "    0 & 0 & 0 & 1 & -1 & A_4 - (A_3 - (A_2 - A_1))\\\\\n",
    "    0 & 0 & 0 & 0 & 1 & 0.5 \\times (A_5 - (A_4 - (A_3 - (A_2 - A_1))))\\\\\n",
    "    \\end{array}\n",
    "    \\right) \n",
    "\\end{equation}\n",
    "\\begin{equation}\n",
    "    \\left(\n",
    "    \\begin{array}{rr}\n",
    "    1 & 0 & 0 & 0 & 0 & A_1 - 0.5 \\times (A_5 - (A_4 - (A_3 - (A_2 - A_1))))\\\\\n",
    "    0 & 1 & 0 & 0 & 0 & A_2 - A_1 + 0.5 \\times (A_5 - (A_4 - (A_3 - (A_2 - A_1))))\\\\\n",
    "    0 & 0 & 1 & 0 & 0 & A_3 - (A_2 - A_1) - 0.5 \\times (A_5 - (A_4 - (A_3 - (A_2 - A_1))))\\\\\n",
    "    0 & 0 & 0 & 1 & 0 & A_4 - (A_3 - (A_2 - A_1)) +　0.5 \\times (A_5 - (A_4 - (A_3 - (A_2 - A_1))))\\\\\n",
    "    0 & 0 & 0 & 0 & 1 & 0.5 \\times (A_5 - (A_4 - (A_3 - (A_2 - A_1))))\\\\\n",
    "    \\end{array}\n",
    "    \\right) \n",
    "\\end{equation}"
   ]
  },
  {
   "cell_type": "code",
   "execution_count": 47,
   "metadata": {
    "ExecuteTime": {
     "end_time": "2019-12-18T02:40:16.613564Z",
     "start_time": "2019-12-18T02:40:16.611096Z"
    }
   },
   "outputs": [],
   "source": [
    "N = 3\n",
    "A = {1:2, 2:2, 3:4}"
   ]
  },
  {
   "cell_type": "code",
   "execution_count": 48,
   "metadata": {
    "ExecuteTime": {
     "end_time": "2019-12-18T02:40:16.937802Z",
     "start_time": "2019-12-18T02:40:16.932318Z"
    }
   },
   "outputs": [
    {
     "name": "stdout",
     "output_type": "stream",
     "text": [
      "4 0 4\n"
     ]
    }
   ],
   "source": [
    "for i in range(2, N+1):\n",
    "    A[i] -= A[i - 1]\n",
    "A[N] //= 2\n",
    "\n",
    "const = A[N]\n",
    "ret = [str(2 * const)]\n",
    "for i in range(1, N):\n",
    "    if i % 2:\n",
    "        ret.append(str(2 * (A[i] - const)))\n",
    "    else:\n",
    "        ret.append(str(2 * (A[i] + const)))\n",
    "\n",
    "ret = ' '.join(ret)\n",
    "print(ret)"
   ]
  },
  {
   "cell_type": "code",
   "execution_count": 45,
   "metadata": {
    "ExecuteTime": {
     "end_time": "2019-12-18T02:40:02.492861Z",
     "start_time": "2019-12-18T02:40:02.490235Z"
    }
   },
   "outputs": [],
   "source": [
    "N = 5\n",
    "A = {1:3, 2:8, 3:7, 4:5, 5:5}"
   ]
  },
  {
   "cell_type": "code",
   "execution_count": 46,
   "metadata": {
    "ExecuteTime": {
     "end_time": "2019-12-18T02:40:02.717978Z",
     "start_time": "2019-12-18T02:40:02.712043Z"
    }
   },
   "outputs": [
    {
     "name": "stdout",
     "output_type": "stream",
     "text": [
      "2 4 12 2 8\n"
     ]
    }
   ],
   "source": [
    "for i in range(2, N+1):\n",
    "    A[i] -= A[i - 1]\n",
    "A[N] //= 2\n",
    "\n",
    "const = A[N]\n",
    "ret = [str(2 * const)]\n",
    "for i in range(1, N):\n",
    "    if i % 2:\n",
    "        ret.append(str(2 * (A[i] - const)))\n",
    "    else:\n",
    "        ret.append(str(2 * (A[i] + const)))\n",
    "\n",
    "ret = ' '.join(ret)\n",
    "print(ret)"
   ]
  },
  {
   "cell_type": "code",
   "execution_count": null,
   "metadata": {},
   "outputs": [],
   "source": []
  }
 ],
 "metadata": {
  "author": "mes",
  "kernelspec": {
   "display_name": "Python 3",
   "language": "python",
   "name": "python3"
  },
  "language_info": {
   "codemirror_mode": {
    "name": "ipython",
    "version": 3
   },
   "file_extension": ".py",
   "mimetype": "text/x-python",
   "name": "python",
   "nbconvert_exporter": "python",
   "pygments_lexer": "ipython3",
   "version": "3.7.3"
  },
  "latex_envs": {
   "LaTeX_envs_menu_present": true,
   "autoclose": false,
   "autocomplete": true,
   "bibliofile": "biblio.bib",
   "cite_by": "apalike",
   "current_citInitial": 1,
   "eqLabelWithNumbers": true,
   "eqNumInitial": 1,
   "hotkeys": {
    "equation": "Ctrl-E",
    "itemize": "Ctrl-I"
   },
   "labels_anchors": false,
   "latex_user_defs": false,
   "report_style_numbering": false,
   "user_envs_cfg": false
  },
  "toc": {
   "base_numbering": 1,
   "nav_menu": {},
   "number_sections": true,
   "sideBar": true,
   "skip_h1_title": false,
   "title_cell": "Table of Contents",
   "title_sidebar": "Contents",
   "toc_cell": false,
   "toc_position": {},
   "toc_section_display": true,
   "toc_window_display": false
  },
  "varInspector": {
   "cols": {
    "lenName": 16,
    "lenType": 16,
    "lenVar": 40
   },
   "kernels_config": {
    "python": {
     "delete_cmd_postfix": "",
     "delete_cmd_prefix": "del ",
     "library": "var_list.py",
     "varRefreshCmd": "print(var_dic_list())"
    },
    "r": {
     "delete_cmd_postfix": ") ",
     "delete_cmd_prefix": "rm(",
     "library": "var_list.r",
     "varRefreshCmd": "cat(var_dic_list()) "
    }
   },
   "position": {
    "height": "228px",
    "left": "1169px",
    "right": "20px",
    "top": "110px",
    "width": "447px"
   },
   "types_to_exclude": [
    "module",
    "function",
    "builtin_function_or_method",
    "instance",
    "_Feature"
   ],
   "window_display": true
  }
 },
 "nbformat": 4,
 "nbformat_minor": 2
}

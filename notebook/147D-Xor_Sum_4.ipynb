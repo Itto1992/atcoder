{
 "cells": [
  {
   "cell_type": "markdown",
   "metadata": {},
   "source": [
    "## 提出したコード"
   ]
  },
  {
   "cell_type": "code",
   "execution_count": 1,
   "metadata": {
    "scrolled": true
   },
   "outputs": [
    {
     "name": "stdout",
     "output_type": "stream",
     "text": [
      "10\n",
      "3 14 159 2653 58979 323846 2643383 27950288 419716939 9375105820\n",
      "103715602\n"
     ]
    }
   ],
   "source": [
    "N = int(input())\n",
    "binary = [0]*60\n",
    "for inp in input().split():\n",
    "    inp = bin(int(inp))[2:][::-1]\n",
    "    for j, _inp in enumerate(inp):\n",
    "        if _inp == '1':\n",
    "            binary[j] += 1\n",
    "    \n",
    "ret = 0\n",
    "pow2 = 1\n",
    "for elem in binary:\n",
    "    if elem == 0 or elem == N:\n",
    "        pass\n",
    "    else: \n",
    "        mn = elem * (N - elem) % (10**9 + 7)\n",
    "        ret += pow2 * mn \n",
    "        ret = ret % (10**9 + 7)\n",
    "    pow2 = pow2 * 2 % (10**9 + 7)\n",
    "print(ret)"
   ]
  },
  {
   "cell_type": "markdown",
   "metadata": {},
   "source": [
    "## 解法ポイント\n",
    "- **xor関数を適用するために読み込みの時にバイナリ化する**\n",
    "- **素朴に組み合わせを考えるとO(n^2)になるので間に合わない 格桁の0と1の数を数える こちらはO(n)**\n",
    "    - 文字列の1を整数型に変換して足すより文字列1をチェックして整数1を足す方が早い(下のセル参照/型変換はTLEした)\n",
    "- **格桁のxorの戻り値はn=(0の数)、m=(1の数)とした時、mnで表される**\n",
    "- **格桁で求めた戻り値を10進数に変換する この時10^9+7で割りながら足す**\n",
    "    - mとnは常に10^9+7より小さいので割る必要なし"
   ]
  },
  {
   "cell_type": "markdown",
   "metadata": {},
   "source": [
    "### 型変換は遅い"
   ]
  },
  {
   "cell_type": "markdown",
   "metadata": {},
   "source": [
    "#### 文字列→整数変換して和を求める"
   ]
  },
  {
   "cell_type": "code",
   "execution_count": 2,
   "metadata": {},
   "outputs": [
    {
     "name": "stdout",
     "output_type": "stream",
     "text": [
      "295 ns ± 22.3 ns per loop (mean ± std. dev. of 7 runs, 1000000 loops each)\n"
     ]
    }
   ],
   "source": [
    "%%timeit\n",
    "\n",
    "1 + int('1')"
   ]
  },
  {
   "cell_type": "markdown",
   "metadata": {},
   "source": [
    "#### 文字列をチェックして和を計算する"
   ]
  },
  {
   "cell_type": "code",
   "execution_count": 3,
   "metadata": {},
   "outputs": [
    {
     "name": "stdout",
     "output_type": "stream",
     "text": [
      "57.8 ns ± 1.11 ns per loop (mean ± std. dev. of 7 runs, 10000000 loops each)\n"
     ]
    }
   ],
   "source": [
    "%%timeit\n",
    "\n",
    "if '1' == '1':\n",
    "    1 + 1"
   ]
  },
  {
   "cell_type": "code",
   "execution_count": null,
   "metadata": {
    "collapsed": true
   },
   "outputs": [],
   "source": []
  }
 ],
 "metadata": {
  "kernelspec": {
   "display_name": "Python 3",
   "language": "python",
   "name": "python3"
  },
  "language_info": {
   "codemirror_mode": {
    "name": "ipython",
    "version": 3
   },
   "file_extension": ".py",
   "mimetype": "text/x-python",
   "name": "python",
   "nbconvert_exporter": "python",
   "pygments_lexer": "ipython3",
   "version": "3.5.4"
  }
 },
 "nbformat": 4,
 "nbformat_minor": 2
}

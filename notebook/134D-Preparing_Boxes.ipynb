{
 "cells": [
  {
   "cell_type": "markdown",
   "metadata": {},
   "source": [
    "### 提出コード"
   ]
  },
  {
   "cell_type": "code",
   "execution_count": null,
   "metadata": {},
   "outputs": [],
   "source": [
    "def main():\n",
    "\n",
    "    N = int(input())\n",
    "    a = {i: inp for i, inp in enumerate(map(int, input().split()), 1)}\n",
    "        \n",
    "    b = {i : 0 for i in range(1, N+1)}\n",
    "    ret = []\n",
    "\n",
    "    for i in range(N, 0, -1):\n",
    "        sum_multiple = 0\n",
    "        cursor = 2\n",
    "        while i * cursor <= N:\n",
    "            sum_multiple += b[i * cursor]\n",
    "            cursor += 1\n",
    "\n",
    "        if a[i] == 1:\n",
    "            if sum_multiple % 2 == 0:\n",
    "                b[i] = 1\n",
    "                ret.append(i)\n",
    "        else:\n",
    "            if sum_multiple % 2:\n",
    "                b[i] = 1\n",
    "                ret.append(i)\n",
    "\n",
    "    M = len(ret)\n",
    "    print(M)\n",
    "    if M:\n",
    "        ret = ' '.join([str(i) for i in ret])\n",
    "        print(ret)\n",
    "\n",
    "if __name__==\"__main__\":\n",
    "    main()"
   ]
  },
  {
   "cell_type": "markdown",
   "metadata": {},
   "source": [
    "### 解法\n",
    "- オーダー的に線形時間か$N\\log N$程度\n",
    "- 任意の場合に達成可能っぽい？\n",
    "- 後半を確定させた上で前半を見ていく(ループを逆に回す)"
   ]
  },
  {
   "cell_type": "code",
   "execution_count": 1,
   "metadata": {
    "ExecuteTime": {
     "end_time": "2019-12-18T01:14:08.113101Z",
     "start_time": "2019-12-18T01:14:08.110491Z"
    }
   },
   "outputs": [],
   "source": [
    "N = 3\n",
    "a = {1:1, 2:0, 3:0}"
   ]
  },
  {
   "cell_type": "code",
   "execution_count": 2,
   "metadata": {
    "ExecuteTime": {
     "end_time": "2019-12-18T01:14:08.986511Z",
     "start_time": "2019-12-18T01:14:08.983900Z"
    }
   },
   "outputs": [],
   "source": [
    "N = 5\n",
    "a = {i: 0 for i in range(1, N+1)}"
   ]
  },
  {
   "cell_type": "code",
   "execution_count": 3,
   "metadata": {
    "ExecuteTime": {
     "end_time": "2019-12-18T01:14:09.710539Z",
     "start_time": "2019-12-18T01:14:09.702655Z"
    }
   },
   "outputs": [
    {
     "name": "stdout",
     "output_type": "stream",
     "text": [
      "0\n",
      "0 0 0 0 0\n"
     ]
    }
   ],
   "source": [
    "M = 0\n",
    "b = {i : 0 for i in range(1, N+1)}\n",
    "\n",
    "for i in range(N, 0, -1):\n",
    "    sum_multiple = 0\n",
    "    cursor = 2\n",
    "    while i * cursor <= N:\n",
    "        sum_multiple += b[i * cursor]\n",
    "        cursor += 1\n",
    "    \n",
    "    if a[i] == 1:\n",
    "        if sum_multiple % 2:\n",
    "            b[i] = 0\n",
    "        else:\n",
    "            b[i] = 1\n",
    "            M += 1\n",
    "    else:\n",
    "        if sum_multiple % 2:\n",
    "            b[i] = 1\n",
    "            M += 1\n",
    "        else:\n",
    "            b[i] = 0\n",
    "            \n",
    "b = [str(value) for value in b.values()]\n",
    "b = ' '.join(b)\n",
    "\n",
    "print(M)\n",
    "print(b)\n",
    "            \n",
    "        \n",
    "        "
   ]
  },
  {
   "cell_type": "code",
   "execution_count": null,
   "metadata": {},
   "outputs": [],
   "source": []
  }
 ],
 "metadata": {
  "kernelspec": {
   "display_name": "Python 3",
   "language": "python",
   "name": "python3"
  },
  "language_info": {
   "codemirror_mode": {
    "name": "ipython",
    "version": 3
   },
   "file_extension": ".py",
   "mimetype": "text/x-python",
   "name": "python",
   "nbconvert_exporter": "python",
   "pygments_lexer": "ipython3",
   "version": "3.7.3"
  },
  "latex_envs": {
   "LaTeX_envs_menu_present": true,
   "autoclose": false,
   "autocomplete": true,
   "bibliofile": "biblio.bib",
   "cite_by": "apalike",
   "current_citInitial": 1,
   "eqLabelWithNumbers": true,
   "eqNumInitial": 1,
   "hotkeys": {
    "equation": "Ctrl-E",
    "itemize": "Ctrl-I"
   },
   "labels_anchors": false,
   "latex_user_defs": false,
   "report_style_numbering": false,
   "user_envs_cfg": false
  },
  "toc": {
   "base_numbering": 1,
   "nav_menu": {},
   "number_sections": true,
   "sideBar": true,
   "skip_h1_title": false,
   "title_cell": "Table of Contents",
   "title_sidebar": "Contents",
   "toc_cell": false,
   "toc_position": {},
   "toc_section_display": true,
   "toc_window_display": false
  },
  "varInspector": {
   "cols": {
    "lenName": 16,
    "lenType": 16,
    "lenVar": 40
   },
   "kernels_config": {
    "python": {
     "delete_cmd_postfix": "",
     "delete_cmd_prefix": "del ",
     "library": "var_list.py",
     "varRefreshCmd": "print(var_dic_list())"
    },
    "r": {
     "delete_cmd_postfix": ") ",
     "delete_cmd_prefix": "rm(",
     "library": "var_list.r",
     "varRefreshCmd": "cat(var_dic_list()) "
    }
   },
   "position": {
    "height": "427px",
    "left": "1303px",
    "right": "20px",
    "top": "120px",
    "width": "357px"
   },
   "types_to_exclude": [
    "module",
    "function",
    "builtin_function_or_method",
    "instance",
    "_Feature"
   ],
   "window_display": true
  }
 },
 "nbformat": 4,
 "nbformat_minor": 2
}

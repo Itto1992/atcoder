{
 "cells": [
  {
   "cell_type": "markdown",
   "metadata": {},
   "source": [
    "### 提出コード"
   ]
  },
  {
   "cell_type": "code",
   "execution_count": null,
   "metadata": {
    "collapsed": true
   },
   "outputs": [],
   "source": [
    "import sys\n",
    "import heapq\n",
    "from collections import defaultdict\n",
    "\n",
    "\n",
    "def main():\n",
    "    input = sys.stdin.readline\n",
    "    \n",
    "    N, M = map(int, input().split())\n",
    "\n",
    "    table = defaultdict(list)\n",
    "    for i in range(N):\n",
    "        A, B = map(int, input().split())\n",
    "        table[A].append(-B)\n",
    "\n",
    "    candidate = []\n",
    "    heapq.heapify(candidate)\n",
    "\n",
    "    ret = 0\n",
    "\n",
    "    for i in range(1, M+1):\n",
    "        for value in table[i]:\n",
    "            heapq.heappush(candidate, value)\n",
    "        if len(candidate) > 0:\n",
    "            ret -= heapq.heappop(candidate)\n",
    "\n",
    "    print(ret)\n",
    "    \n",
    "if __name__==\"__main__\":\n",
    "    main()"
   ]
  },
  {
   "cell_type": "markdown",
   "metadata": {},
   "source": [
    "### 解法\n",
    "- 残日数が少ない方からカウントしていく その時点で選べる最も大きい値を選べばよい\n",
    "    - 残日数$M$から始めて大きいのから選ぶと、残日数が少ない状態で選べる最善手が潰される可能性がある\n",
    "- 最大値を取り出すのでpriority_queueを使いたい\n",
    "    - 残日数1からループして、その時点で取れる選択肢を順次priority_queueに加えていく この操作は$O(\\log(n))$なので間に合う\n",
    "    - 選択肢がない状態でpopするとエラーを吐くので残バイト数をチェック\n",
    "- default_dictを使うとテーブルのキーがないと空リストをループするのでエラーを吐かなくて便利"
   ]
  },
  {
   "cell_type": "code",
   "execution_count": null,
   "metadata": {
    "collapsed": true
   },
   "outputs": [],
   "source": []
  }
 ],
 "metadata": {
  "kernelspec": {
   "display_name": "Python 3",
   "language": "python",
   "name": "python3"
  },
  "language_info": {
   "codemirror_mode": {
    "name": "ipython",
    "version": 3
   },
   "file_extension": ".py",
   "mimetype": "text/x-python",
   "name": "python",
   "nbconvert_exporter": "python",
   "pygments_lexer": "ipython3",
   "version": "3.5.4"
  }
 },
 "nbformat": 4,
 "nbformat_minor": 2
}

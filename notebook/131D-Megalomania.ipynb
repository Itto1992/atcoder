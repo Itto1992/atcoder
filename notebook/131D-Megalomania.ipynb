{
 "cells": [
  {
   "cell_type": "markdown",
   "metadata": {},
   "source": [
    "### 提出コード"
   ]
  },
  {
   "cell_type": "code",
   "execution_count": null,
   "metadata": {},
   "outputs": [],
   "source": [
    "# import bisect\n",
    "# import heapq\n",
    "# import math\n",
    "# import queue\n",
    "import sys\n",
    "\n",
    "\n",
    "def main():\n",
    "    # 読み込み回数が多い場合\n",
    "    input = sys.stdin.readline\n",
    "    N = int(input())\n",
    "    \n",
    "    # heap queue\n",
    "    h = []\n",
    "    for i in range(N):\n",
    "        A, B = map(int, input().split())\n",
    "        h.append((B, A))\n",
    "    h.sort()\n",
    "\t\n",
    "    time = 0\n",
    "    for B, A in h:\n",
    "        time += A\n",
    "        if B < time:\n",
    "            print(\"No\")\n",
    "            sys.exit()\n",
    "    \n",
    "    print(\"Yes\")\n",
    "\n",
    "\n",
    "if __name__ == \"__main__\":\n",
    "    main()"
   ]
  },
  {
   "cell_type": "code",
   "execution_count": null,
   "metadata": {},
   "outputs": [],
   "source": [
    "# import bisect\n",
    "import heapq\n",
    "# import math\n",
    "# import queue\n",
    "import sys\n",
    "\n",
    "\n",
    "def main():\n",
    "    # 読み込み回数が多い場合\n",
    "    input = sys.stdin.readline\n",
    "    N = int(input())\n",
    "    \n",
    "    # heap queue\n",
    "    h = []\n",
    "    for i in range(N):\n",
    "        A, B = map(int, input().split())\n",
    "        heapq.heappush(h, (B, A))\n",
    "\t\n",
    "    time = 0\n",
    "    while len(h) > 0:\n",
    "        B, A = heapq.heappop(h)\n",
    "        time += A\n",
    "        if B < time:\n",
    "            print(\"No\")\n",
    "            sys.exit()\n",
    "    \n",
    "    print(\"Yes\")\n",
    "\n",
    "\n",
    "if __name__ == \"__main__\":\n",
    "    main()"
   ]
  },
  {
   "cell_type": "markdown",
   "metadata": {},
   "source": [
    "### 解法\n",
    "締め切りが近いものから順に処理していく。priotity_queueでnlognなので間に合う。リストでソートしてもnlognなのでいけんじゃんと思ってやったらそっちの方が早かった。"
   ]
  },
  {
   "cell_type": "markdown",
   "metadata": {},
   "source": [
    "### 速度比較\n",
    "`list.sort()`の方が`list = sorted(list)`より早い。"
   ]
  },
  {
   "cell_type": "code",
   "execution_count": 11,
   "metadata": {
    "ExecuteTime": {
     "end_time": "2019-12-19T00:28:29.710701Z",
     "start_time": "2019-12-19T00:28:27.249830Z"
    }
   },
   "outputs": [
    {
     "name": "stdout",
     "output_type": "stream",
     "text": [
      "3.01 µs ± 38.7 ns per loop (mean ± std. dev. of 7 runs, 100000 loops each)\n"
     ]
    }
   ],
   "source": [
    "%%timeit\n",
    "\n",
    "h = [i for i in range(100)]\n",
    "h.sort()"
   ]
  },
  {
   "cell_type": "code",
   "execution_count": 12,
   "metadata": {
    "ExecuteTime": {
     "end_time": "2019-12-19T00:28:47.276213Z",
     "start_time": "2019-12-19T00:28:44.529672Z"
    }
   },
   "outputs": [
    {
     "name": "stdout",
     "output_type": "stream",
     "text": [
      "3.36 µs ± 45.1 ns per loop (mean ± std. dev. of 7 runs, 100000 loops each)\n"
     ]
    }
   ],
   "source": [
    "%%timeit\n",
    "\n",
    "h = [i for i in range(100)]\n",
    "h = sorted(h)"
   ]
  },
  {
   "cell_type": "code",
   "execution_count": null,
   "metadata": {},
   "outputs": [],
   "source": []
  }
 ],
 "metadata": {
  "kernelspec": {
   "display_name": "Python 3",
   "language": "python",
   "name": "python3"
  },
  "language_info": {
   "codemirror_mode": {
    "name": "ipython",
    "version": 3
   },
   "file_extension": ".py",
   "mimetype": "text/x-python",
   "name": "python",
   "nbconvert_exporter": "python",
   "pygments_lexer": "ipython3",
   "version": "3.7.3"
  },
  "latex_envs": {
   "LaTeX_envs_menu_present": true,
   "autoclose": false,
   "autocomplete": true,
   "bibliofile": "biblio.bib",
   "cite_by": "apalike",
   "current_citInitial": 1,
   "eqLabelWithNumbers": true,
   "eqNumInitial": 1,
   "hotkeys": {
    "equation": "Ctrl-E",
    "itemize": "Ctrl-I"
   },
   "labels_anchors": false,
   "latex_user_defs": false,
   "report_style_numbering": false,
   "user_envs_cfg": false
  },
  "toc": {
   "base_numbering": 1,
   "nav_menu": {},
   "number_sections": true,
   "sideBar": true,
   "skip_h1_title": false,
   "title_cell": "Table of Contents",
   "title_sidebar": "Contents",
   "toc_cell": false,
   "toc_position": {},
   "toc_section_display": true,
   "toc_window_display": false
  },
  "varInspector": {
   "cols": {
    "lenName": 16,
    "lenType": 16,
    "lenVar": 40
   },
   "kernels_config": {
    "python": {
     "delete_cmd_postfix": "",
     "delete_cmd_prefix": "del ",
     "library": "var_list.py",
     "varRefreshCmd": "print(var_dic_list())"
    },
    "r": {
     "delete_cmd_postfix": ") ",
     "delete_cmd_prefix": "rm(",
     "library": "var_list.r",
     "varRefreshCmd": "cat(var_dic_list()) "
    }
   },
   "types_to_exclude": [
    "module",
    "function",
    "builtin_function_or_method",
    "instance",
    "_Feature"
   ],
   "window_display": true
  }
 },
 "nbformat": 4,
 "nbformat_minor": 2
}
